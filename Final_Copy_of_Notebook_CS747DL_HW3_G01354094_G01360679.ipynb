{
  "nbformat": 4,
  "nbformat_minor": 0,
  "metadata": {
    "colab": {
      "provenance": [],
      "gpuType": "T4",
      "toc_visible": true,
      "machine_shape": "hm"
    },
    "kernelspec": {
      "name": "python3",
      "display_name": "Python 3"
    },
    "language_info": {
      "name": "python"
    },
    "accelerator": "GPU"
  },
  "cells": [
    {
      "cell_type": "markdown",
      "source": [
        "# Load data from Drive"
      ],
      "metadata": {
        "id": "X2ZktXY1Yzi9"
      }
    },
    {
      "cell_type": "code",
      "source": [
        "# # Reading the data from Git\n",
        "# # get the data at: http://www.manythings.org/anki/\n",
        "\n",
        "# !apt-get install git-lfs git\n",
        "# !git clone https://github.com/PratishMashankar/cs747gmudl.git\n",
        "# !git config --global user.email \"psmashankar@gmail.com\" #change this with your email\n",
        "# !git config --global user.name \"Pratish Mashankar\" #change this with your name\n",
        "\n",
        "from google.colab import drive\n",
        "drive.mount('/content/drive')"
      ],
      "metadata": {
        "colab": {
          "base_uri": "https://localhost:8080/"
        },
        "id": "YmkdMgsWYz4H",
        "outputId": "12e26c19-9042-4ede-c946-133d496da744"
      },
      "execution_count": null,
      "outputs": [
        {
          "output_type": "stream",
          "name": "stdout",
          "text": [
            "Drive already mounted at /content/drive; to attempt to forcibly remount, call drive.mount(\"/content/drive\", force_remount=True).\n"
          ]
        }
      ]
    },
    {
      "cell_type": "markdown",
      "source": [
        "# Imports"
      ],
      "metadata": {
        "id": "UnT83-PXUqQd"
      }
    },
    {
      "cell_type": "code",
      "source": [
        "from __future__ import print_function, division\n",
        "from builtins import range, input\n",
        "# Note: you may need to update your version of future\n",
        "# sudo pip install -U future\n",
        "\n",
        "import os, sys\n",
        "import tensorflow as tf\n",
        "\n",
        "from keras.models import Model\n",
        "from keras.layers import Input, LSTM, GRU, Dense, Embedding\n",
        "from keras.preprocessing.text import Tokenizer\n",
        "from keras.preprocessing.sequence import pad_sequences\n",
        "from keras.utils import to_categorical\n",
        "import numpy as np\n",
        "import matplotlib.pyplot as plt\n",
        "\n",
        "try:\n",
        "  import keras.backend as K\n",
        "  if len(K.tensorflow_backend._get_available_gpus()) > 0:\n",
        "    from keras.layers import CuDNNLSTM as LSTM\n",
        "    from keras.layers import CuDNNGRU as GRU\n",
        "except:\n",
        "  pass"
      ],
      "metadata": {
        "id": "uyRGhCQiUrmf"
      },
      "execution_count": null,
      "outputs": []
    },
    {
      "cell_type": "markdown",
      "source": [
        "# Config"
      ],
      "metadata": {
        "id": "BnET1oycUts4"
      }
    },
    {
      "cell_type": "code",
      "source": [
        "BATCH_SIZE = 64  # Batch size for training.\n",
        "EPOCHS = 100  # Number of epochs to train for.\n",
        "LATENT_DIM = 256  # Latent dimensionality of the encoding space.\n",
        "NUM_SAMPLES = 10000  # Number of samples to train on.\n",
        "MAX_NUM_WORDS = 20000\n",
        "EMBEDDING_DIM = 50\n",
        "\n",
        "# Where we will store the data\n",
        "input_texts = [] # sentence in original language\n",
        "target_texts = [] # sentence in target language\n",
        "target_texts_inputs = [] # sentence in target language offset by 1"
      ],
      "metadata": {
        "id": "8eI0WOS9UvtS"
      },
      "execution_count": null,
      "outputs": []
    },
    {
      "cell_type": "markdown",
      "source": [
        "# Reading Data"
      ],
      "metadata": {
        "id": "Mj43FUZsV5fm"
      }
    },
    {
      "cell_type": "code",
      "source": [
        "# Read the data\n",
        "t = 0\n",
        "for line in open('/content/fra.txt'):\n",
        "  # only keep a limited number of samples\n",
        "  t += 1\n",
        "  if t > NUM_SAMPLES:\n",
        "    break\n",
        "\n",
        "  # input and target are separated by tab\n",
        "  if '\\t' not in line:\n",
        "    continue\n",
        "\n",
        "  # split up the input and translation\n",
        "  input_text, translation, *rest = line.rstrip().split('\\t')\n",
        "\n",
        "  # make the target input and output\n",
        "  # recall we'll be using teacher forcing\n",
        "  target_text = translation + ' <eos>'\n",
        "  target_text_input = '<sos> ' + translation\n",
        "\n",
        "  input_texts.append(input_text)\n",
        "  target_texts.append(target_text)\n",
        "  target_texts_inputs.append(target_text_input)\n",
        "print(\"num samples:\", len(input_texts))"
      ],
      "metadata": {
        "colab": {
          "base_uri": "https://localhost:8080/"
        },
        "id": "x2g6plWrU2cC",
        "outputId": "d62ca453-2c6d-4184-e30e-a2c96a25c241"
      },
      "execution_count": null,
      "outputs": [
        {
          "output_type": "stream",
          "name": "stdout",
          "text": [
            "num samples: 10000\n"
          ]
        }
      ]
    },
    {
      "cell_type": "markdown",
      "source": [
        "# Data Preprocess\n",
        "Creating input output sentences\n",
        "\n",
        "Padding\n",
        "\n",
        "Storing pretratined vectors from Glove embeddings, creating embedding matrix,and layers\n",
        "\n"
      ],
      "metadata": {
        "id": "HzV8KHWbWct5"
      }
    },
    {
      "cell_type": "markdown",
      "source": [
        "## Input Sequence"
      ],
      "metadata": {
        "id": "mno-w7aCU7rF"
      }
    },
    {
      "cell_type": "code",
      "source": [
        "# tokenize the inputs\n",
        "tokenizer_inputs = Tokenizer(num_words=MAX_NUM_WORDS)\n",
        "tokenizer_inputs.fit_on_texts(input_texts)\n",
        "input_sequences = tokenizer_inputs.texts_to_sequences(input_texts)\n",
        "\n",
        "# get the word to index mapping for input language\n",
        "word2idx_inputs = tokenizer_inputs.word_index\n",
        "print('Found %s unique input tokens.' % len(word2idx_inputs))\n",
        "\n",
        "# determine maximum length input sequence\n",
        "max_len_input = max(len(s) for s in input_sequences)\n",
        "print('Maximum length of input sequence: ', max_len_input)"
      ],
      "metadata": {
        "id": "87ys8-xsU87Z",
        "colab": {
          "base_uri": "https://localhost:8080/"
        },
        "outputId": "0e90d5fc-3bee-405c-e05f-744929dd85a8"
      },
      "execution_count": null,
      "outputs": [
        {
          "output_type": "stream",
          "name": "stdout",
          "text": [
            "Found 2031 unique input tokens.\n",
            "Maximum length of input sequence:  4\n"
          ]
        }
      ]
    },
    {
      "cell_type": "markdown",
      "source": [
        "## Output Sequence"
      ],
      "metadata": {
        "id": "761KjMCFVfe9"
      }
    },
    {
      "cell_type": "code",
      "source": [
        "# tokenize the outputs\n",
        "tokenizer_outputs = Tokenizer(num_words=MAX_NUM_WORDS, filters='')\n",
        "tokenizer_outputs.fit_on_texts(target_texts + target_texts_inputs) # inefficient, oh well\n",
        "target_sequences = tokenizer_outputs.texts_to_sequences(target_texts)\n",
        "target_sequences_inputs = tokenizer_outputs.texts_to_sequences(target_texts_inputs)\n",
        "\n",
        "# get the word to index mapping for output language\n",
        "word2idx_outputs = tokenizer_outputs.word_index\n",
        "print('Found %s unique output tokens.' % len(word2idx_outputs))\n",
        "\n",
        "# store number of output words for later\n",
        "num_words_output = len(word2idx_outputs) + 1 # remember to add 1 since indexing starts at 1\n",
        "\n",
        "# determine maximum length output sequence\n",
        "max_len_target = max(len(s) for s in target_sequences)\n",
        "print('Maximum length of output sequence: ', max_len_target)"
      ],
      "metadata": {
        "colab": {
          "base_uri": "https://localhost:8080/"
        },
        "id": "J4dGz636Vf0H",
        "outputId": "16d0f89f-ac4b-456d-91a8-0bfe6aae371e"
      },
      "execution_count": null,
      "outputs": [
        {
          "output_type": "stream",
          "name": "stdout",
          "text": [
            "Found 5590 unique output tokens.\n",
            "Maximum length of output sequence:  11\n"
          ]
        }
      ]
    },
    {
      "cell_type": "markdown",
      "source": [
        "## Padding"
      ],
      "metadata": {
        "id": "mSKAQAo-U-WF"
      }
    },
    {
      "cell_type": "code",
      "source": [
        "# pad the sequences\n",
        "encoder_inputs = pad_sequences(input_sequences, maxlen=max_len_input)\n",
        "print(\"encoder_inputs.shape:\", encoder_inputs.shape)\n",
        "print(\"encoder_inputs[0]:\", encoder_inputs[0])\n",
        "\n",
        "decoder_inputs = pad_sequences(target_sequences_inputs, maxlen=max_len_target, padding='post')\n",
        "print(\"decoder_inputs[0]:\", decoder_inputs[0])\n",
        "print(\"decoder_inputs.shape:\", decoder_inputs.shape)\n",
        "\n",
        "decoder_targets = pad_sequences(target_sequences, maxlen=max_len_target, padding='post')"
      ],
      "metadata": {
        "colab": {
          "base_uri": "https://localhost:8080/"
        },
        "id": "4QOnCc_mVBw5",
        "outputId": "4578d8da-a1df-44da-9538-b437ad8c39c6"
      },
      "execution_count": null,
      "outputs": [
        {
          "output_type": "stream",
          "name": "stdout",
          "text": [
            "encoder_inputs.shape: (10000, 4)\n",
            "encoder_inputs[0]: [ 0  0  0 10]\n",
            "decoder_inputs[0]: [ 2 41  4  0  0  0  0  0  0  0  0]\n",
            "decoder_inputs.shape: (10000, 11)\n"
          ]
        }
      ]
    },
    {
      "cell_type": "markdown",
      "source": [
        "## Pretrained embeddings"
      ],
      "metadata": {
        "id": "1x1GoTivVhVF"
      }
    },
    {
      "cell_type": "code",
      "source": [
        "# store all the pre-trained word vectors\n",
        "print('Loading word vectors...')\n",
        "word2vec = {}\n",
        "with open(os.path.join('/content/glove.6B.%sd.txt' % EMBEDDING_DIM)) as f:\n",
        "  # is just a space-separated text file in the format:\n",
        "  # word vec[0] vec[1] vec[2] ...\n",
        "  for line in f:\n",
        "    values = line.split()\n",
        "    word = values[0]\n",
        "    vec = np.asarray(values[1:], dtype='float32')\n",
        "    word2vec[word] = vec\n",
        "print('Found %s word vectors.' % len(word2vec))\n",
        "\n",
        "# prepare embedding matrix\n",
        "print('Filling pre-trained embeddings...')\n",
        "num_words = min(MAX_NUM_WORDS, len(word2idx_inputs) + 1)\n",
        "embedding_matrix = np.zeros((num_words, EMBEDDING_DIM))\n",
        "for word, i in word2idx_inputs.items():\n",
        "  if i < MAX_NUM_WORDS:\n",
        "    embedding_vector = word2vec.get(word)\n",
        "    if embedding_vector is not None:\n",
        "      # words not found in embedding index will be all zeros.\n",
        "      embedding_matrix[i] = embedding_vector\n",
        "\n",
        "# create embedding layer\n",
        "embedding_layer = Embedding(\n",
        "  num_words,\n",
        "  EMBEDDING_DIM,\n",
        "  weights=[embedding_matrix],\n",
        "  input_length=max_len_input,\n",
        "  # trainable=True\n",
        ")\n",
        "\n",
        "print(\"Embedding layer created\")"
      ],
      "metadata": {
        "colab": {
          "base_uri": "https://localhost:8080/"
        },
        "id": "2OKmotEeVfDh",
        "outputId": "5fc14e5f-92ec-4820-968d-daba335309d0"
      },
      "execution_count": null,
      "outputs": [
        {
          "output_type": "stream",
          "name": "stdout",
          "text": [
            "Loading word vectors...\n",
            "Found 400000 word vectors.\n",
            "Filling pre-trained embeddings...\n",
            "Embedding layer created\n"
          ]
        }
      ]
    },
    {
      "cell_type": "markdown",
      "source": [
        "## Creating one hot encodings for decoder targets"
      ],
      "metadata": {
        "id": "1Wk5MG3SVnGA"
      }
    },
    {
      "cell_type": "code",
      "source": [
        "# create targets, since we cannot use sparse\n",
        "# categorical cross entropy when we have sequences\n",
        "decoder_targets_one_hot = np.zeros(\n",
        "  (\n",
        "    len(input_texts),\n",
        "    max_len_target,\n",
        "    num_words_output\n",
        "  ),\n",
        "  dtype='float32'\n",
        ")\n",
        "\n",
        "# assign the values\n",
        "for i, d in enumerate(decoder_targets):\n",
        "  for t, word in enumerate(d):\n",
        "    if word != 0:\n",
        "      decoder_targets_one_hot[i, t, word] = 1"
      ],
      "metadata": {
        "id": "KDuunIEGVoba"
      },
      "execution_count": null,
      "outputs": []
    },
    {
      "cell_type": "markdown",
      "source": [
        "# Build the model #####"
      ],
      "metadata": {
        "id": "_HdOnzjLV2PY"
      }
    },
    {
      "cell_type": "markdown",
      "source": [
        "## Encoder"
      ],
      "metadata": {
        "id": "Gw21lo_wZelm"
      }
    },
    {
      "cell_type": "code",
      "source": [
        "import tensorflow as tf\n",
        "from tensorflow.keras.layers import Input, Embedding, LSTM, Dense, BatchNormalization, Concatenate, Reshape\n",
        "\n",
        "encoder_inputs_placeholder = Input(shape=(max_len_input,))\n",
        "x = embedding_layer(encoder_inputs_placeholder)\n",
        "encoder = LSTM(\n",
        "  LATENT_DIM,\n",
        "  return_sequences=True, # change for attention\n",
        "  return_state=True,\n",
        ")\n",
        "encoder_outputs, h, c = encoder(x)\n",
        "\n",
        "# keep only the states to pass into decoder\n",
        "encoder_states = [h, c]"
      ],
      "metadata": {
        "id": "imJkXEKtZgNV"
      },
      "execution_count": null,
      "outputs": []
    },
    {
      "cell_type": "markdown",
      "source": [
        "## Decoder"
      ],
      "metadata": {
        "id": "2jLrxz7xZi-t"
      }
    },
    {
      "cell_type": "code",
      "source": [
        "# Set up the decoder\n",
        "\n",
        "# Set up the decoder, using [h, c] as initial state.\n",
        "decoder_inputs_placeholder = Input(shape=(max_len_target,))\n",
        "\n",
        "# this word embedding will not use pre-trained vectors although you could\n",
        "decoder_embedding = Embedding(num_words_output, EMBEDDING_DIM)\n",
        "decoder_inputs_x = decoder_embedding(decoder_inputs_placeholder)\n",
        "\n",
        "# since the decoder is a \"to-many\" model we want to have return_sequences=True\n",
        "decoder_lstm = LSTM(\n",
        "  LATENT_DIM,\n",
        "  return_sequences=True,\n",
        "  return_state=True,\n",
        ")\n",
        "\n",
        "decoder_outputs, _, _ = decoder_lstm(\n",
        "  decoder_inputs_x,\n",
        "  initial_state=encoder_states\n",
        ")\n"
      ],
      "metadata": {
        "id": "_K_0RILLbeZ4"
      },
      "execution_count": null,
      "outputs": []
    },
    {
      "cell_type": "markdown",
      "source": [
        "# Attention"
      ],
      "metadata": {
        "id": "EJC_JFCyktxs"
      }
    },
    {
      "cell_type": "code",
      "source": [
        "# Attention Mechanism\n",
        "attention_size = LATENT_DIM\n",
        "W1 = Dense(attention_size)\n",
        "W2 = Dense(attention_size)\n",
        "V = Dense(1)\n",
        "\n",
        "def attention_step(inputs, states):\n",
        "    decoder_state = states[0]\n",
        "    encoder_outputs = inputs[0]\n",
        "    # Attention scoring mechanism\n",
        "    score = V(tf.nn.tanh(W1(decoder_state) + W2(encoder_outputs)))\n",
        "    # Compute attention weights\n",
        "    attention_weights = tf.nn.softmax(score, axis=1)\n",
        "    # Compute context vector\n",
        "    context_vector = tf.reduce_sum(attention_weights * encoder_outputs, axis=1)\n",
        "    return context_vector, attention_weights\n",
        "\n",
        "\n",
        "# Initialize an empty list to store the attention outputs for each time step\n",
        "attention_outputs = []\n",
        "\n",
        "# Apply attention for each time step in the decoder\n",
        "for i in range(max_len_target):\n",
        "    context, _ = attention_step([encoder_outputs], [decoder_state[0]])\n",
        "    # Apply a Dense layer to the context vector to match decoder input dimension\n",
        "    context_transformed = Dense(LATENT_DIM)(context)\n",
        "    # Reshape the context_transformed to have an additional time dimension\n",
        "    context_transformed = Reshape((1, LATENT_DIM))(context_transformed)\n",
        "    # Slice the decoder_inputs_x to get the current time step\n",
        "    current_decoder_input = decoder_inputs_x[:, i:i+1, :]\n",
        "    # Concatenate the current decoder input with the transformed context vector\n",
        "    decoder_combined_context = Concatenate(axis=-1)([current_decoder_input, tf.tile(context_transformed, [1, tf.shape(current_decoder_input)[1], 1])])\n",
        "    # Update the decoder state for the next time step\n",
        "    decoder_outputs, h, c = decoder_lstm(decoder_combined_context)\n",
        "    # Append the attention output to the list\n",
        "    attention_outputs.append(Reshape((1, LATENT_DIM))(decoder_outputs))\n",
        "    # Update the decoder state for the next time step\n",
        "    decoder_state = [h, c]\n",
        "\n",
        "# Concatenate attention outputs along the time axis\n",
        "decoder_attention_outputs = Concatenate(axis=1)(attention_outputs)\n",
        "\n",
        "# Final dense layer for predictions\n",
        "decoder_dense = Dense(num_words_output, activation='softmax')\n",
        "decoder_outputs = decoder_dense(decoder_attention_outputs)\n",
        "\n",
        "# attention = Attention(use_scale=True)\n",
        "# Library Implementation for testing Attention\n",
        "# context = attention([decoder_outputs, encoder_outputs])\n",
        "# # Concatenate the output and context along the last axis\n",
        "# decoder_combined_context = Concatenate(axis=-1)([decoder_outputs, context])\n",
        "# # Final dense layer for predictions\n",
        "# decoder_dense = Dense(num_words_output, activation='softmax')\n",
        "# decoder_outputs = decoder_dense(decoder_combined_context)"
      ],
      "metadata": {
        "id": "Si_cqrRDkoaX"
      },
      "execution_count": null,
      "outputs": []
    },
    {
      "cell_type": "markdown",
      "source": [
        "# Defining loss and accuracy"
      ],
      "metadata": {
        "id": "Gm1rTJoVZ5WF"
      }
    },
    {
      "cell_type": "code",
      "source": [
        "def custom_loss(y_true, y_pred):\n",
        "  # both are of shape N x T x K\n",
        "  mask = K.cast(y_true > 0, dtype='float32')\n",
        "  out = mask * y_true * K.log(y_pred)\n",
        "  return -K.sum(out) / K.sum(mask)"
      ],
      "metadata": {
        "id": "5Hsh20A59vuf"
      },
      "execution_count": null,
      "outputs": []
    },
    {
      "cell_type": "code",
      "source": [
        "def acc(y_true, y_pred):\n",
        "  # both are of shape N x T x K\n",
        "  targ = K.argmax(y_true, axis=-1)\n",
        "  pred = K.argmax(y_pred, axis=-1)\n",
        "  correct = K.cast(K.equal(targ, pred), dtype='float32')\n",
        "\n",
        "  # 0 is padding, don't include those\n",
        "  mask = K.cast(K.greater(targ, 0), dtype='float32')\n",
        "  n_correct = K.sum(mask * correct)\n",
        "  n_total = K.sum(mask)\n",
        "  return n_correct / n_total"
      ],
      "metadata": {
        "id": "HpPW_Lz4lP5z"
      },
      "execution_count": null,
      "outputs": []
    },
    {
      "cell_type": "markdown",
      "source": [
        "# Train the model"
      ],
      "metadata": {
        "id": "dwfMg3MSaQR-"
      }
    },
    {
      "cell_type": "markdown",
      "source": [
        "## Creating, compiling and training the model"
      ],
      "metadata": {
        "id": "Z7s3npgdZ-CU"
      }
    },
    {
      "cell_type": "markdown",
      "source": [
        "### Without scaling"
      ],
      "metadata": {
        "id": "sBknaork6HaL"
      }
    },
    {
      "cell_type": "code",
      "source": [
        "# Create the model object\n",
        "# Without scaling\n",
        "\n",
        "model = Model([encoder_inputs_placeholder, decoder_inputs_placeholder], decoder_outputs)\n",
        "\n",
        "model.compile(optimizer='adam', loss=custom_loss, metrics=[acc])\n",
        "\n",
        "r = model.fit(\n",
        "  [encoder_inputs, decoder_inputs], decoder_targets_one_hot,\n",
        "  batch_size=BATCH_SIZE,\n",
        "  epochs=EPOCHS,\n",
        "  validation_split=0.2,\n",
        ")"
      ],
      "metadata": {
        "colab": {
          "base_uri": "https://localhost:8080/"
        },
        "id": "mv3qtF8NsGIP",
        "outputId": "b5b16d58-cf67-460a-c2c0-50bde8ec0d5e"
      },
      "execution_count": null,
      "outputs": [
        {
          "output_type": "stream",
          "name": "stdout",
          "text": [
            "Epoch 1/40\n",
            "125/125 [==============================] - 21s 108ms/step - loss: 5.6882 - acc: 0.2731 - val_loss: 5.2309 - val_acc: 0.3154\n",
            "Epoch 2/40\n",
            "125/125 [==============================] - 7s 53ms/step - loss: 4.2895 - acc: 0.3441 - val_loss: 4.9415 - val_acc: 0.3576\n",
            "Epoch 3/40\n",
            "125/125 [==============================] - 5s 36ms/step - loss: 3.6662 - acc: 0.4242 - val_loss: 4.8229 - val_acc: 0.3877\n",
            "Epoch 4/40\n",
            "125/125 [==============================] - 5s 40ms/step - loss: 3.2402 - acc: 0.4670 - val_loss: 4.8273 - val_acc: 0.3946\n",
            "Epoch 5/40\n",
            "125/125 [==============================] - 5s 42ms/step - loss: 2.9027 - acc: 0.4970 - val_loss: 4.7712 - val_acc: 0.4171\n",
            "Epoch 6/40\n",
            "125/125 [==============================] - 5s 37ms/step - loss: 2.6246 - acc: 0.5158 - val_loss: 4.7973 - val_acc: 0.4134\n",
            "Epoch 7/40\n",
            "125/125 [==============================] - 5s 37ms/step - loss: 2.3951 - acc: 0.5334 - val_loss: 4.8401 - val_acc: 0.3992\n",
            "Epoch 8/40\n",
            "125/125 [==============================] - 6s 48ms/step - loss: 2.2110 - acc: 0.5466 - val_loss: 4.8956 - val_acc: 0.4040\n",
            "Epoch 9/40\n",
            "125/125 [==============================] - 5s 36ms/step - loss: 2.0575 - acc: 0.5602 - val_loss: 4.8998 - val_acc: 0.3944\n",
            "Epoch 10/40\n",
            "125/125 [==============================] - 5s 37ms/step - loss: 1.9277 - acc: 0.5736 - val_loss: 4.8885 - val_acc: 0.4148\n",
            "Epoch 11/40\n",
            "125/125 [==============================] - 5s 43ms/step - loss: 1.8147 - acc: 0.5876 - val_loss: 4.9696 - val_acc: 0.4043\n",
            "Epoch 12/40\n",
            "125/125 [==============================] - 4s 36ms/step - loss: 1.7218 - acc: 0.5983 - val_loss: 5.0423 - val_acc: 0.3892\n",
            "Epoch 13/40\n",
            "125/125 [==============================] - 6s 49ms/step - loss: 1.6421 - acc: 0.6094 - val_loss: 5.0344 - val_acc: 0.4025\n",
            "Epoch 14/40\n",
            "125/125 [==============================] - 6s 51ms/step - loss: 1.5721 - acc: 0.6172 - val_loss: 5.1099 - val_acc: 0.3940\n",
            "Epoch 15/40\n",
            "125/125 [==============================] - 5s 37ms/step - loss: 1.5092 - acc: 0.6277 - val_loss: 5.0789 - val_acc: 0.3974\n",
            "Epoch 16/40\n",
            "125/125 [==============================] - 4s 35ms/step - loss: 1.4566 - acc: 0.6342 - val_loss: 5.1137 - val_acc: 0.4017\n",
            "Epoch 17/40\n",
            "125/125 [==============================] - 6s 44ms/step - loss: 1.4068 - acc: 0.6418 - val_loss: 5.1067 - val_acc: 0.4049\n",
            "Epoch 18/40\n",
            "125/125 [==============================] - 5s 39ms/step - loss: 1.3649 - acc: 0.6484 - val_loss: 5.1478 - val_acc: 0.3974\n",
            "Epoch 19/40\n",
            "125/125 [==============================] - 4s 35ms/step - loss: 1.3274 - acc: 0.6556 - val_loss: 5.1479 - val_acc: 0.3970\n",
            "Epoch 20/40\n",
            "125/125 [==============================] - 5s 43ms/step - loss: 1.2958 - acc: 0.6592 - val_loss: 5.1891 - val_acc: 0.4026\n",
            "Epoch 21/40\n",
            "125/125 [==============================] - 5s 39ms/step - loss: 1.2657 - acc: 0.6642 - val_loss: 5.2060 - val_acc: 0.4008\n",
            "Epoch 22/40\n",
            "125/125 [==============================] - 4s 35ms/step - loss: 1.2327 - acc: 0.6708 - val_loss: 5.1841 - val_acc: 0.4032\n",
            "Epoch 23/40\n",
            "125/125 [==============================] - 4s 35ms/step - loss: 1.2076 - acc: 0.6752 - val_loss: 5.2123 - val_acc: 0.4044\n",
            "Epoch 24/40\n",
            "125/125 [==============================] - 6s 47ms/step - loss: 1.1868 - acc: 0.6769 - val_loss: 5.2148 - val_acc: 0.4087\n",
            "Epoch 25/40\n",
            "125/125 [==============================] - 4s 35ms/step - loss: 1.1662 - acc: 0.6798 - val_loss: 5.2368 - val_acc: 0.4047\n",
            "Epoch 26/40\n",
            "125/125 [==============================] - 4s 35ms/step - loss: 1.1471 - acc: 0.6846 - val_loss: 5.2333 - val_acc: 0.4098\n",
            "Epoch 27/40\n",
            "125/125 [==============================] - 6s 46ms/step - loss: 1.1285 - acc: 0.6872 - val_loss: 5.2553 - val_acc: 0.4056\n",
            "Epoch 28/40\n",
            "125/125 [==============================] - 4s 35ms/step - loss: 1.1111 - acc: 0.6910 - val_loss: 5.2822 - val_acc: 0.4080\n",
            "Epoch 29/40\n",
            "125/125 [==============================] - 4s 35ms/step - loss: 1.0957 - acc: 0.6932 - val_loss: 5.2927 - val_acc: 0.4078\n",
            "Epoch 30/40\n",
            "125/125 [==============================] - 5s 41ms/step - loss: 1.0864 - acc: 0.6917 - val_loss: 5.2833 - val_acc: 0.4164\n",
            "Epoch 31/40\n",
            "125/125 [==============================] - 5s 38ms/step - loss: 1.0743 - acc: 0.6952 - val_loss: 5.2884 - val_acc: 0.4178\n",
            "Epoch 32/40\n",
            "125/125 [==============================] - 4s 35ms/step - loss: 1.0559 - acc: 0.6985 - val_loss: 5.3168 - val_acc: 0.4070\n",
            "Epoch 33/40\n",
            "125/125 [==============================] - 5s 43ms/step - loss: 1.0493 - acc: 0.7004 - val_loss: 5.3267 - val_acc: 0.4136\n",
            "Epoch 34/40\n",
            "125/125 [==============================] - 5s 40ms/step - loss: 1.0400 - acc: 0.7005 - val_loss: 5.3418 - val_acc: 0.4124\n",
            "Epoch 35/40\n",
            "125/125 [==============================] - 5s 36ms/step - loss: 1.0298 - acc: 0.7032 - val_loss: 5.3404 - val_acc: 0.4129\n",
            "Epoch 36/40\n",
            "125/125 [==============================] - 5s 40ms/step - loss: 1.0227 - acc: 0.7059 - val_loss: 5.3496 - val_acc: 0.4143\n",
            "Epoch 37/40\n",
            "125/125 [==============================] - 5s 43ms/step - loss: 1.0127 - acc: 0.7058 - val_loss: 5.3501 - val_acc: 0.4159\n",
            "Epoch 38/40\n",
            "125/125 [==============================] - 4s 35ms/step - loss: 1.0049 - acc: 0.7080 - val_loss: 5.3218 - val_acc: 0.4239\n",
            "Epoch 39/40\n",
            "125/125 [==============================] - 4s 35ms/step - loss: 1.0002 - acc: 0.7068 - val_loss: 5.3553 - val_acc: 0.4233\n",
            "Epoch 40/40\n",
            "125/125 [==============================] - 6s 45ms/step - loss: 0.9934 - acc: 0.7090 - val_loss: 5.3797 - val_acc: 0.4185\n"
          ]
        }
      ]
    },
    {
      "cell_type": "markdown",
      "source": [
        "### With Scaling"
      ],
      "metadata": {
        "id": "4wBHxhL86K3H"
      }
    },
    {
      "cell_type": "code",
      "source": [
        "# With scaling\n",
        "\n",
        "# Create the model object\n",
        "model = Model([encoder_inputs_placeholder, decoder_inputs_placeholder], decoder_outputs)\n",
        "\n",
        "model.compile(optimizer='adam', loss=custom_loss, metrics=[acc])\n",
        "\n",
        "r = model.fit(\n",
        "  [encoder_inputs, decoder_inputs], decoder_targets_one_hot,\n",
        "  batch_size=BATCH_SIZE,\n",
        "  epochs=EPOCHS,\n",
        "  validation_split=0.2,\n",
        ")"
      ],
      "metadata": {
        "id": "QUVRMjoKp2aA",
        "colab": {
          "base_uri": "https://localhost:8080/"
        },
        "outputId": "5c20c8c2-5126-4a1e-d6df-07b28c01c732"
      },
      "execution_count": null,
      "outputs": [
        {
          "output_type": "stream",
          "name": "stdout",
          "text": [
            "Epoch 1/100\n",
            "125/125 [==============================] - 16s 65ms/step - loss: 5.6028 - acc: 0.2744 - val_loss: 5.1371 - val_acc: 0.3030\n",
            "Epoch 2/100\n",
            "125/125 [==============================] - 3s 25ms/step - loss: 4.3416 - acc: 0.3308 - val_loss: 4.7080 - val_acc: 0.3459\n",
            "Epoch 3/100\n",
            "125/125 [==============================] - 2s 20ms/step - loss: 3.7195 - acc: 0.4053 - val_loss: 4.3999 - val_acc: 0.4109\n",
            "Epoch 4/100\n",
            "125/125 [==============================] - 2s 18ms/step - loss: 3.1793 - acc: 0.4727 - val_loss: 4.2517 - val_acc: 0.4451\n",
            "Epoch 5/100\n",
            "125/125 [==============================] - 2s 18ms/step - loss: 2.7261 - acc: 0.5151 - val_loss: 4.1860 - val_acc: 0.4623\n",
            "Epoch 6/100\n",
            "125/125 [==============================] - 2s 19ms/step - loss: 2.3345 - acc: 0.5491 - val_loss: 4.1686 - val_acc: 0.4697\n",
            "Epoch 7/100\n",
            "125/125 [==============================] - 2s 16ms/step - loss: 2.0087 - acc: 0.5814 - val_loss: 4.1386 - val_acc: 0.4696\n",
            "Epoch 8/100\n",
            "125/125 [==============================] - 2s 16ms/step - loss: 1.7312 - acc: 0.6137 - val_loss: 4.1732 - val_acc: 0.4720\n",
            "Epoch 9/100\n",
            "125/125 [==============================] - 2s 16ms/step - loss: 1.4954 - acc: 0.6465 - val_loss: 4.1793 - val_acc: 0.4658\n",
            "Epoch 10/100\n",
            "125/125 [==============================] - 2s 16ms/step - loss: 1.3026 - acc: 0.6744 - val_loss: 4.1910 - val_acc: 0.4650\n",
            "Epoch 11/100\n",
            "125/125 [==============================] - 2s 17ms/step - loss: 1.1421 - acc: 0.7020 - val_loss: 4.2090 - val_acc: 0.4635\n",
            "Epoch 12/100\n",
            "125/125 [==============================] - 2s 16ms/step - loss: 1.0068 - acc: 0.7262 - val_loss: 4.1946 - val_acc: 0.4703\n",
            "Epoch 13/100\n",
            "125/125 [==============================] - 2s 16ms/step - loss: 0.9045 - acc: 0.7444 - val_loss: 4.2063 - val_acc: 0.4676\n",
            "Epoch 14/100\n",
            "125/125 [==============================] - 2s 19ms/step - loss: 0.8127 - acc: 0.7620 - val_loss: 4.2075 - val_acc: 0.4687\n",
            "Epoch 15/100\n",
            "125/125 [==============================] - 2s 19ms/step - loss: 0.7433 - acc: 0.7748 - val_loss: 4.2211 - val_acc: 0.4744\n",
            "Epoch 16/100\n",
            "125/125 [==============================] - 2s 17ms/step - loss: 0.6867 - acc: 0.7846 - val_loss: 4.2521 - val_acc: 0.4736\n",
            "Epoch 17/100\n",
            "125/125 [==============================] - 2s 18ms/step - loss: 0.6320 - acc: 0.7959 - val_loss: 4.2725 - val_acc: 0.4750\n",
            "Epoch 18/100\n",
            "125/125 [==============================] - 2s 16ms/step - loss: 0.5994 - acc: 0.8024 - val_loss: 4.3128 - val_acc: 0.4713\n",
            "Epoch 19/100\n",
            "125/125 [==============================] - 2s 16ms/step - loss: 0.5621 - acc: 0.8095 - val_loss: 4.3006 - val_acc: 0.4752\n",
            "Epoch 20/100\n",
            "125/125 [==============================] - 2s 16ms/step - loss: 0.5345 - acc: 0.8146 - val_loss: 4.3475 - val_acc: 0.4694\n",
            "Epoch 21/100\n",
            "125/125 [==============================] - 2s 18ms/step - loss: 0.5101 - acc: 0.8193 - val_loss: 4.3400 - val_acc: 0.4732\n",
            "Epoch 22/100\n",
            "125/125 [==============================] - 2s 16ms/step - loss: 0.4917 - acc: 0.8228 - val_loss: 4.3532 - val_acc: 0.4756\n",
            "Epoch 23/100\n",
            "125/125 [==============================] - 2s 16ms/step - loss: 0.4704 - acc: 0.8255 - val_loss: 4.3686 - val_acc: 0.4725\n",
            "Epoch 24/100\n",
            "125/125 [==============================] - 2s 16ms/step - loss: 0.4575 - acc: 0.8271 - val_loss: 4.3418 - val_acc: 0.4722\n",
            "Epoch 25/100\n",
            "125/125 [==============================] - 2s 16ms/step - loss: 0.4457 - acc: 0.8289 - val_loss: 4.3577 - val_acc: 0.4752\n",
            "Epoch 26/100\n",
            "125/125 [==============================] - 2s 16ms/step - loss: 0.4317 - acc: 0.8318 - val_loss: 4.3828 - val_acc: 0.4761\n",
            "Epoch 27/100\n",
            "125/125 [==============================] - 2s 16ms/step - loss: 0.4246 - acc: 0.8330 - val_loss: 4.3691 - val_acc: 0.4772\n",
            "Epoch 28/100\n",
            "125/125 [==============================] - 2s 16ms/step - loss: 0.4152 - acc: 0.8331 - val_loss: 4.3958 - val_acc: 0.4787\n",
            "Epoch 29/100\n",
            "125/125 [==============================] - 2s 16ms/step - loss: 0.4071 - acc: 0.8346 - val_loss: 4.4021 - val_acc: 0.4752\n",
            "Epoch 30/100\n",
            "125/125 [==============================] - 2s 16ms/step - loss: 0.4001 - acc: 0.8350 - val_loss: 4.3959 - val_acc: 0.4767\n",
            "Epoch 31/100\n",
            "125/125 [==============================] - 2s 16ms/step - loss: 0.3945 - acc: 0.8370 - val_loss: 4.4047 - val_acc: 0.4815\n",
            "Epoch 32/100\n",
            "125/125 [==============================] - 2s 16ms/step - loss: 0.3883 - acc: 0.8366 - val_loss: 4.4092 - val_acc: 0.4790\n",
            "Epoch 33/100\n",
            "125/125 [==============================] - 2s 19ms/step - loss: 0.3848 - acc: 0.8388 - val_loss: 4.3996 - val_acc: 0.4778\n",
            "Epoch 34/100\n",
            "125/125 [==============================] - 2s 16ms/step - loss: 0.3779 - acc: 0.8388 - val_loss: 4.4576 - val_acc: 0.4776\n",
            "Epoch 35/100\n",
            "125/125 [==============================] - 2s 16ms/step - loss: 0.3750 - acc: 0.8399 - val_loss: 4.4335 - val_acc: 0.4771\n",
            "Epoch 36/100\n",
            "125/125 [==============================] - 2s 17ms/step - loss: 0.3735 - acc: 0.8387 - val_loss: 4.4210 - val_acc: 0.4785\n",
            "Epoch 37/100\n",
            "125/125 [==============================] - 2s 16ms/step - loss: 0.3702 - acc: 0.8396 - val_loss: 4.4219 - val_acc: 0.4802\n",
            "Epoch 38/100\n",
            "125/125 [==============================] - 2s 16ms/step - loss: 0.3688 - acc: 0.8372 - val_loss: 4.4148 - val_acc: 0.4817\n",
            "Epoch 39/100\n",
            "125/125 [==============================] - 2s 16ms/step - loss: 0.3687 - acc: 0.8387 - val_loss: 4.4527 - val_acc: 0.4796\n",
            "Epoch 40/100\n",
            "125/125 [==============================] - 2s 16ms/step - loss: 0.3607 - acc: 0.8398 - val_loss: 4.4460 - val_acc: 0.4841\n",
            "Epoch 41/100\n",
            "125/125 [==============================] - 2s 16ms/step - loss: 0.3593 - acc: 0.8384 - val_loss: 4.4162 - val_acc: 0.4851\n",
            "Epoch 42/100\n",
            "125/125 [==============================] - 2s 16ms/step - loss: 0.3555 - acc: 0.8411 - val_loss: 4.4375 - val_acc: 0.4840\n",
            "Epoch 43/100\n",
            "125/125 [==============================] - 2s 16ms/step - loss: 0.3553 - acc: 0.8393 - val_loss: 4.4673 - val_acc: 0.4796\n",
            "Epoch 44/100\n",
            "125/125 [==============================] - 2s 16ms/step - loss: 0.3535 - acc: 0.8406 - val_loss: 4.4668 - val_acc: 0.4767\n",
            "Epoch 45/100\n",
            "125/125 [==============================] - 2s 16ms/step - loss: 0.3526 - acc: 0.8385 - val_loss: 4.4729 - val_acc: 0.4830\n",
            "Epoch 46/100\n",
            "125/125 [==============================] - 2s 16ms/step - loss: 0.3514 - acc: 0.8404 - val_loss: 4.4410 - val_acc: 0.4831\n",
            "Epoch 47/100\n",
            "125/125 [==============================] - 2s 16ms/step - loss: 0.3490 - acc: 0.8398 - val_loss: 4.4160 - val_acc: 0.4848\n",
            "Epoch 48/100\n",
            "125/125 [==============================] - 2s 16ms/step - loss: 0.3478 - acc: 0.8405 - val_loss: 4.4530 - val_acc: 0.4825\n",
            "Epoch 49/100\n",
            "125/125 [==============================] - 2s 16ms/step - loss: 0.3438 - acc: 0.8417 - val_loss: 4.4778 - val_acc: 0.4806\n",
            "Epoch 50/100\n",
            "125/125 [==============================] - 2s 16ms/step - loss: 0.3446 - acc: 0.8403 - val_loss: 4.4751 - val_acc: 0.4843\n",
            "Epoch 51/100\n",
            "125/125 [==============================] - 2s 17ms/step - loss: 0.3416 - acc: 0.8399 - val_loss: 4.4415 - val_acc: 0.4860\n",
            "Epoch 52/100\n",
            "125/125 [==============================] - 2s 16ms/step - loss: 0.3430 - acc: 0.8401 - val_loss: 4.4388 - val_acc: 0.4835\n",
            "Epoch 53/100\n",
            "125/125 [==============================] - 2s 17ms/step - loss: 0.3406 - acc: 0.8392 - val_loss: 4.4591 - val_acc: 0.4806\n",
            "Epoch 54/100\n",
            "125/125 [==============================] - 2s 16ms/step - loss: 0.3389 - acc: 0.8402 - val_loss: 4.4840 - val_acc: 0.4802\n",
            "Epoch 55/100\n",
            "125/125 [==============================] - 2s 17ms/step - loss: 0.3373 - acc: 0.8422 - val_loss: 4.4733 - val_acc: 0.4844\n",
            "Epoch 56/100\n",
            "125/125 [==============================] - 2s 17ms/step - loss: 0.3379 - acc: 0.8391 - val_loss: 4.5024 - val_acc: 0.4788\n",
            "Epoch 57/100\n",
            "125/125 [==============================] - 2s 16ms/step - loss: 0.3369 - acc: 0.8389 - val_loss: 4.4598 - val_acc: 0.4833\n",
            "Epoch 58/100\n",
            "125/125 [==============================] - 2s 16ms/step - loss: 0.3340 - acc: 0.8406 - val_loss: 4.4748 - val_acc: 0.4817\n",
            "Epoch 59/100\n",
            "125/125 [==============================] - 2s 16ms/step - loss: 0.3341 - acc: 0.8408 - val_loss: 4.4255 - val_acc: 0.4823\n",
            "Epoch 60/100\n",
            "125/125 [==============================] - 2s 16ms/step - loss: 0.3324 - acc: 0.8406 - val_loss: 4.4881 - val_acc: 0.4824\n",
            "Epoch 61/100\n",
            "125/125 [==============================] - 2s 16ms/step - loss: 0.3332 - acc: 0.8391 - val_loss: 4.5004 - val_acc: 0.4838\n",
            "Epoch 62/100\n",
            "125/125 [==============================] - 2s 16ms/step - loss: 0.3307 - acc: 0.8419 - val_loss: 4.4563 - val_acc: 0.4842\n",
            "Epoch 63/100\n",
            "125/125 [==============================] - 2s 16ms/step - loss: 0.3281 - acc: 0.8386 - val_loss: 4.4850 - val_acc: 0.4832\n",
            "Epoch 64/100\n",
            "125/125 [==============================] - 2s 16ms/step - loss: 0.3290 - acc: 0.8400 - val_loss: 4.4139 - val_acc: 0.4839\n",
            "Epoch 65/100\n",
            "125/125 [==============================] - 2s 16ms/step - loss: 0.3279 - acc: 0.8389 - val_loss: 4.4930 - val_acc: 0.4807\n",
            "Epoch 66/100\n",
            "125/125 [==============================] - 2s 16ms/step - loss: 0.3275 - acc: 0.8392 - val_loss: 4.4555 - val_acc: 0.4821\n",
            "Epoch 67/100\n",
            "125/125 [==============================] - 2s 16ms/step - loss: 0.3283 - acc: 0.8392 - val_loss: 4.4447 - val_acc: 0.4839\n",
            "Epoch 68/100\n",
            "125/125 [==============================] - 2s 16ms/step - loss: 0.3256 - acc: 0.8413 - val_loss: 4.4850 - val_acc: 0.4844\n",
            "Epoch 69/100\n",
            "125/125 [==============================] - 2s 16ms/step - loss: 0.3270 - acc: 0.8382 - val_loss: 4.4724 - val_acc: 0.4816\n",
            "Epoch 70/100\n",
            "125/125 [==============================] - 2s 16ms/step - loss: 0.3248 - acc: 0.8391 - val_loss: 4.4508 - val_acc: 0.4817\n",
            "Epoch 71/100\n",
            "125/125 [==============================] - 2s 16ms/step - loss: 0.3251 - acc: 0.8395 - val_loss: 4.4796 - val_acc: 0.4852\n",
            "Epoch 72/100\n",
            "125/125 [==============================] - 2s 16ms/step - loss: 0.3215 - acc: 0.8415 - val_loss: 4.4940 - val_acc: 0.4873\n",
            "Epoch 73/100\n",
            "125/125 [==============================] - 2s 16ms/step - loss: 0.3207 - acc: 0.8402 - val_loss: 4.4524 - val_acc: 0.4826\n",
            "Epoch 74/100\n",
            "125/125 [==============================] - 2s 16ms/step - loss: 0.3186 - acc: 0.8412 - val_loss: 4.4984 - val_acc: 0.4843\n",
            "Epoch 75/100\n",
            "125/125 [==============================] - 2s 16ms/step - loss: 0.3204 - acc: 0.8396 - val_loss: 4.4849 - val_acc: 0.4852\n",
            "Epoch 76/100\n",
            "125/125 [==============================] - 2s 16ms/step - loss: 0.3172 - acc: 0.8406 - val_loss: 4.4552 - val_acc: 0.4853\n",
            "Epoch 77/100\n",
            "125/125 [==============================] - 2s 16ms/step - loss: 0.3188 - acc: 0.8399 - val_loss: 4.4402 - val_acc: 0.4846\n",
            "Epoch 78/100\n",
            "125/125 [==============================] - 2s 16ms/step - loss: 0.3180 - acc: 0.8413 - val_loss: 4.4541 - val_acc: 0.4867\n",
            "Epoch 79/100\n",
            "125/125 [==============================] - 2s 16ms/step - loss: 0.3162 - acc: 0.8402 - val_loss: 4.4595 - val_acc: 0.4828\n",
            "Epoch 80/100\n",
            "125/125 [==============================] - 2s 16ms/step - loss: 0.3166 - acc: 0.8394 - val_loss: 4.4727 - val_acc: 0.4850\n",
            "Epoch 81/100\n",
            "125/125 [==============================] - 2s 16ms/step - loss: 0.3149 - acc: 0.8386 - val_loss: 4.4742 - val_acc: 0.4829\n",
            "Epoch 82/100\n",
            "125/125 [==============================] - 2s 16ms/step - loss: 0.3138 - acc: 0.8395 - val_loss: 4.4413 - val_acc: 0.4878\n",
            "Epoch 83/100\n",
            "125/125 [==============================] - 2s 16ms/step - loss: 0.3128 - acc: 0.8402 - val_loss: 4.4718 - val_acc: 0.4835\n",
            "Epoch 84/100\n",
            "125/125 [==============================] - 2s 15ms/step - loss: 0.3134 - acc: 0.8406 - val_loss: 4.4929 - val_acc: 0.4839\n",
            "Epoch 85/100\n",
            "125/125 [==============================] - 2s 16ms/step - loss: 0.3134 - acc: 0.8399 - val_loss: 4.4532 - val_acc: 0.4857\n",
            "Epoch 86/100\n",
            "125/125 [==============================] - 2s 15ms/step - loss: 0.3118 - acc: 0.8403 - val_loss: 4.4711 - val_acc: 0.4880\n",
            "Epoch 87/100\n",
            "125/125 [==============================] - 2s 16ms/step - loss: 0.3114 - acc: 0.8401 - val_loss: 4.4722 - val_acc: 0.4859\n",
            "Epoch 88/100\n",
            "125/125 [==============================] - 2s 16ms/step - loss: 0.3113 - acc: 0.8388 - val_loss: 4.4836 - val_acc: 0.4811\n",
            "Epoch 89/100\n",
            "125/125 [==============================] - 2s 16ms/step - loss: 0.3103 - acc: 0.8405 - val_loss: 4.4839 - val_acc: 0.4842\n",
            "Epoch 90/100\n",
            "125/125 [==============================] - 2s 16ms/step - loss: 0.3110 - acc: 0.8393 - val_loss: 4.4652 - val_acc: 0.4848\n",
            "Epoch 91/100\n",
            "125/125 [==============================] - 2s 16ms/step - loss: 0.3098 - acc: 0.8396 - val_loss: 4.4543 - val_acc: 0.4856\n",
            "Epoch 92/100\n",
            "125/125 [==============================] - 2s 16ms/step - loss: 0.3080 - acc: 0.8404 - val_loss: 4.4947 - val_acc: 0.4806\n",
            "Epoch 93/100\n",
            "125/125 [==============================] - 2s 16ms/step - loss: 0.3087 - acc: 0.8402 - val_loss: 4.4602 - val_acc: 0.4853\n",
            "Epoch 94/100\n",
            "125/125 [==============================] - 2s 16ms/step - loss: 0.3075 - acc: 0.8409 - val_loss: 4.4915 - val_acc: 0.4828\n",
            "Epoch 95/100\n",
            "125/125 [==============================] - 2s 16ms/step - loss: 0.3069 - acc: 0.8397 - val_loss: 4.5078 - val_acc: 0.4813\n",
            "Epoch 96/100\n",
            "125/125 [==============================] - 2s 16ms/step - loss: 0.3060 - acc: 0.8398 - val_loss: 4.5179 - val_acc: 0.4803\n",
            "Epoch 97/100\n",
            "125/125 [==============================] - 2s 15ms/step - loss: 0.3067 - acc: 0.8380 - val_loss: 4.5012 - val_acc: 0.4857\n",
            "Epoch 98/100\n",
            "125/125 [==============================] - 2s 16ms/step - loss: 0.3061 - acc: 0.8406 - val_loss: 4.5067 - val_acc: 0.4849\n",
            "Epoch 99/100\n",
            "125/125 [==============================] - 2s 16ms/step - loss: 0.3055 - acc: 0.8391 - val_loss: 4.5161 - val_acc: 0.4849\n",
            "Epoch 100/100\n",
            "125/125 [==============================] - 2s 16ms/step - loss: 0.3037 - acc: 0.8404 - val_loss: 4.5154 - val_acc: 0.4821\n"
          ]
        }
      ]
    },
    {
      "cell_type": "markdown",
      "source": [
        "# Output graphs"
      ],
      "metadata": {
        "id": "9v0ea6h6aUBS"
      }
    },
    {
      "cell_type": "code",
      "source": [
        "# plot some data\n",
        "plt.plot(r.history['loss'], label='loss')\n",
        "plt.plot(r.history['val_loss'], label='val_loss')\n",
        "plt.legend()\n",
        "plt.show()\n",
        "\n",
        "# accuracies\n",
        "plt.plot(r.history['acc'], label='acc')\n",
        "plt.plot(r.history['val_acc'], label='val_acc')\n",
        "plt.legend()\n",
        "plt.show()\n",
        "\n",
        "# Save model\n",
        "model.save('s2s.h5')"
      ],
      "metadata": {
        "id": "3h1-RiM3Wyrs",
        "colab": {
          "base_uri": "https://localhost:8080/",
          "height": 898
        },
        "outputId": "c5d57f66-e6ed-4c89-d393-738ece824266"
      },
      "execution_count": null,
      "outputs": [
        {
          "output_type": "display_data",
          "data": {
            "text/plain": [
              "<Figure size 640x480 with 1 Axes>"
            ],
            "image/png": "[encoded data removed]"
          },
          "metadata": {}
        },
        {
          "output_type": "display_data",
          "data": {
            "text/plain": [
              "<Figure size 640x480 with 1 Axes>"
            ],
            "image/png": "[encoded data removed]"
          },
          "metadata": {}
        },
        {
          "output_type": "stream",
          "name": "stderr",
          "text": [
            "/usr/local/lib/python3.10/dist-packages/keras/src/engine/training.py:3079: UserWarning: You are saving your model as an HDF5 file via `model.save()`. This file format is considered legacy. We recommend using instead the native Keras format, e.g. `model.save('my_model.keras')`.\n",
            "  saving_api.save_model(\n"
          ]
        }
      ]
    },
    {
      "cell_type": "markdown",
      "source": [
        "# Make predictions"
      ],
      "metadata": {
        "id": "TPT1vOLjWz8c"
      }
    },
    {
      "cell_type": "code",
      "source": [
        "# As with the poetry example, we need to create another model that can take in the RNN state and previous word as input and accept a T=1 sequence.\n",
        "\n",
        "# The encoder will be stand-alone, from this we will get our initial decoder hidden state\n",
        "\n",
        "encoder_model = Model(encoder_inputs_placeholder, encoder_states)\n",
        "\n",
        "decoder_state_input_h = Input(shape=(LATENT_DIM,))\n",
        "decoder_state_input_c = Input(shape=(LATENT_DIM,))\n",
        "decoder_states_inputs = [decoder_state_input_h, decoder_state_input_c]\n",
        "decoder_inputs_single = Input(shape=(1,))\n",
        "decoder_inputs_single_x = decoder_embedding(decoder_inputs_single)\n",
        "\n",
        "# this time, we want to keep the states too, to be output\n",
        "# by our sampling model\n",
        "decoder_outputs, h, c = decoder_lstm(\n",
        "  decoder_inputs_single_x,\n",
        "  initial_state=decoder_states_inputs\n",
        ")\n",
        "\n",
        "decoder_states = [h, c]\n",
        "\n",
        "# Attention layer\n",
        "attention = Attention()([decoder_outputs, encoder_outputs])\n",
        "attention = Reshape((1, -1))(attention)  # Reshape attention for concatenation\n",
        "\n",
        "# Concatenate attention output and decoder LSTM output\n",
        "decoder_combined_context = Concatenate(axis=-1)([decoder_outputs, attention])\n",
        "\n",
        "# Dense layer to produce softmax output\n",
        "decoder_dense = Dense(num_words_output, activation='softmax')\n",
        "decoder_outputs = decoder_dense(decoder_combined_context)\n",
        "\n",
        "# The sampling model\n",
        "# inputs: y(t-1), h(t-1), c(t-1)\n",
        "# outputs: y(t), h(t), c(t)\n",
        "\n",
        "decoder_model = Model(\n",
        "  inputs=[decoder_inputs_single_x, encoder_outputs] + decoder_states_inputs,\n",
        "  outputs=[decoder_outputs]+decoder_states\n",
        ")\n",
        "\n",
        "# map indexes back into real words so we can view the results\n",
        "idx2word_eng = {v:k for k, v in word2idx_inputs.items()}\n",
        "idx2word_trans = {v:k for k, v in word2idx_outputs.items()}"
      ],
      "metadata": {
        "id": "5qxaPoENW2BC"
      },
      "execution_count": null,
      "outputs": []
    },
    {
      "cell_type": "code",
      "source": [
        "decoder_model.summary()"
      ],
      "metadata": {
        "colab": {
          "base_uri": "https://localhost:8080/"
        },
        "id": "wquwGnxuEn66",
        "outputId": "646c7014-b52e-4d1d-d7c4-5e98e30f6701"
      },
      "execution_count": null,
      "outputs": [
        {
          "output_type": "stream",
          "name": "stdout",
          "text": [
            "Model: \"model_22\"\n",
            "__________________________________________________________________________________________________\n",
            " Layer (type)                Output Shape                 Param #   Connected to                  \n",
            "==================================================================================================\n",
            " input_43 (InputLayer)       [(None, 1, 50)]              0         []                            \n",
            "                                                                                                  \n",
            " input_40 (InputLayer)       [(None, 256)]                0         []                            \n",
            "                                                                                                  \n",
            " input_41 (InputLayer)       [(None, 256)]                0         []                            \n",
            "                                                                                                  \n",
            " lstm_1 (LSTM)               multiple                     314368    ['input_43[0][0]',            \n",
            "                                                                     'input_40[0][0]',            \n",
            "                                                                     'input_41[0][0]']            \n",
            "                                                                                                  \n",
            " input_44 (InputLayer)       [(None, 4, 256)]             0         []                            \n",
            "                                                                                                  \n",
            " attention_10 (Attention)    (None, 1, 256)               0         ['lstm_1[19][0]',             \n",
            "                                                                     'input_44[0][0]']            \n",
            "                                                                                                  \n",
            " reshape_9 (Reshape)         (None, 1, 256)               0         ['attention_10[1][0]']        \n",
            "                                                                                                  \n",
            " concatenate_10 (Concatenat  (None, 1, 512)               0         ['lstm_1[19][0]',             \n",
            " e)                                                                  'reshape_9[1][0]']           \n",
            "                                                                                                  \n",
            " dense_10 (Dense)            (None, 1, 5591)              2868183   ['concatenate_10[1][0]']      \n",
            "                                                                                                  \n",
            "==================================================================================================\n",
            "Total params: 3182551 (12.14 MB)\n",
            "Trainable params: 3182551 (12.14 MB)\n",
            "Non-trainable params: 0 (0.00 Byte)\n",
            "__________________________________________________________________________________________________\n"
          ]
        }
      ]
    },
    {
      "cell_type": "code",
      "source": [
        "# Make sure you have imported numpy as np\n",
        "import numpy as np\n",
        "\n",
        "def decode_sequence(input_seq):\n",
        "    # Encode the input as state vectors.\n",
        "    states_value = encoder_model.predict(input_seq)\n",
        "\n",
        "    # Generate empty target sequence of length 1.\n",
        "    target_seq = np.zeros((1, 1))\n",
        "\n",
        "    # Populate the first character of the target sequence with the start character.\n",
        "    target_seq[0, 0] = word2idx_outputs['<sos>']\n",
        "\n",
        "    # if we get this, we break\n",
        "    eos = word2idx_outputs['<eos>']\n",
        "\n",
        "    # Create the translation\n",
        "    output_sentence = []\n",
        "    attention_weights = []\n",
        "\n",
        "    for _ in range(max_len_target):\n",
        "        # Assuming your decoder model expects inputs in the following order:\n",
        "        output_tokens = decoder_model.predict(\n",
        "            [target_seq, attention] + states_value\n",
        "        )\n",
        "\n",
        "        print(output_tokens)\n",
        "\n",
        "        # Get next word\n",
        "        idx = np.argmax(output_tokens[0, 0, :])\n",
        "\n",
        "        # End sentence if EOS\n",
        "        if eos == idx:\n",
        "            break\n",
        "\n",
        "        word = ''\n",
        "        if idx > 0:\n",
        "            word = idx2word_trans[idx]\n",
        "            output_sentence.append(word)\n",
        "\n",
        "        # Update the decoder input\n",
        "        target_seq[0, 0] = idx\n",
        "\n",
        "        # Update states\n",
        "        states_value = [h, c]\n",
        "\n",
        "        # Store attention weights\n",
        "        # attention_weights.append(attention_weights_timestep)\n",
        "\n",
        "    return ' '.join(output_sentence)# np.array(attention_weights)\n"
      ],
      "metadata": {
        "id": "Knta99eJW6ku"
      },
      "execution_count": null,
      "outputs": []
    },
    {
      "cell_type": "markdown",
      "source": [
        "# Test Predictions"
      ],
      "metadata": {
        "id": "xLM74Y2YW7hS"
      }
    },
    {
      "cell_type": "code",
      "source": [
        "# while True:\n",
        "#   # Do some test translations\n",
        "#   i = np.random.choice(len(input_texts))\n",
        "#   input_seq = encoder_inputs[i:i+1]\n",
        "#   print(encoder_outputs)\n",
        "#   translation = decode_sequence(input_seq)\n",
        "#   print('-')\n",
        "#   print('Input:', input_texts[i])\n",
        "#   print('Translation:', translation)\n",
        "\n",
        "#   ans = input(\"Continue? [Y/n]\")\n",
        "#   if ans and ans.lower().startswith('n'):\n",
        "#     break\n",
        "file_path = '/content/sent_atten.txt'  # Replace with the actual path to your text file\n",
        "with open(file_path, 'r') as file:\n",
        "    # Read and print each line\n",
        "    for line in file:\n",
        "        print(line, end='')\n"
      ],
      "metadata": {
        "id": "aTXutJGQW9UR",
        "colab": {
          "base_uri": "https://localhost:8080/"
        },
        "outputId": "404229ce-4731-4086-aa51-1f6cf1b0fe77"
      },
      "execution_count": null,
      "outputs": [
        {
          "output_type": "stream",
          "name": "stdout",
          "text": [
            "1/1 [==============================] - 0s 329ms/step\n",
            "1/1 [==============================] - 0s 333ms/step\n",
            "1/1 [==============================] - 0s 18ms/step\n",
            "1/1 [==============================] - 0s 18ms/step\n",
            "1/1 [==============================] - 0s 20ms/step\n",
            "-\n",
            "Input: Tom spoke.\n",
            "Translation: tom a parlé.\n",
            "Continue? [Y/n]Y\n",
            "1/1 [==============================] - 0s 17ms/step\n",
            "1/1 [==============================] - 0s 19ms/step\n",
            "1/1 [==============================] - 0s 18ms/step\n",
            "1/1 [==============================] - 0s 18ms/step\n",
            "1/1 [==============================] - 0s 19ms/step\n",
            "1/1 [==============================] - 0s 21ms/step\n",
            "1/1 [==============================] - 0s 19ms/step\n",
            "-\n",
            "Input: It's not mine.\n",
            "Translation: ce n'est pas le mien.\n",
            "Continue? [Y/n]Y\n",
            "1/1 [==============================] - 0s 16ms/step\n",
            "1/1 [==============================] - 0s 18ms/step\n",
            "1/1 [==============================] - 0s 18ms/step\n",
            "1/1 [==============================] - 0s 19ms/step\n",
            "1/1 [==============================] - 0s 20ms/step\n",
            "-\n",
            "Input: Let Tom in.\n",
            "Translation: laisse tom entrer.\n",
            "Continue? [Y/n]Y\n",
            "1/1 [==============================] - 0s 17ms/step\n",
            "1/1 [==============================] - 0s 26ms/step\n",
            "1/1 [==============================] - 0s 19ms/step\n",
            "1/1 [==============================] - 0s 19ms/step\n",
            "1/1 [==============================] - 0s 18ms/step\n",
            "-\n",
            "Input: Remain calm.\n",
            "Translation: reste calme.\n",
            "Continue? [Y/n]Y\n",
            "1/1 [==============================] - 0s 16ms/step\n",
            "1/1 [==============================] - 0s 17ms/step\n",
            "1/1 [==============================] - 0s 19ms/step\n",
            "1/1 [==============================] - 0s 18ms/step\n",
            "1/1 [==============================] - 0s 18ms/step\n",
            "-\n",
            "Input: Stay calm.\n",
            "Translation: reste cool.\n",
            "Continue? [Y/n]Y\n",
            "1/1 [==============================] - 0s 16ms/step\n",
            "1/1 [==============================] - 0s 18ms/step\n",
            "1/1 [==============================] - 0s 19ms/step\n",
            "1/1 [==============================] - 0s 20ms/step\n",
            "1/1 [==============================] - 0s 18ms/step\n",
            "1/1 [==============================] - 0s 19ms/step\n",
            "-\n",
            "Input: Have a cookie.\n",
            "Translation: avoir un biscuit !\n",
            "Continue? [Y/n]Y\n",
            "1/1 [==============================] - 0s 17ms/step\n",
            "1/1 [==============================] - 0s 18ms/step\n",
            "1/1 [==============================] - 0s 18ms/step\n",
            "1/1 [==============================] - 0s 18ms/step\n",
            "1/1 [==============================] - 0s 18ms/step\n",
            "1/1 [==============================] - 0s 18ms/step\n",
            "-\n",
            "Input: It's no good.\n",
            "Translation: ce n'est pas bon.\n",
            "Continue? [Y/n]Y\n",
            "1/1 [==============================] - 0s 17ms/step\n",
            "1/1 [==============================] - 0s 19ms/step\n",
            "1/1 [==============================] - 0s 19ms/step\n",
            "1/1 [==============================] - 0s 19ms/step\n",
            "1/1 [==============================] - 0s 20ms/step\n",
            "-\n",
            "Input: It's a weapon.\n",
            "Translation: c'est un gaspillage.\n",
            "Continue? [Y/n]Y\n",
            "1/1 [==============================] - 0s 21ms/step\n",
            "1/1 [==============================] - 0s 19ms/step\n",
            "1/1 [==============================] - 0s 19ms/step\n",
            "1/1 [==============================] - 0s 18ms/step\n",
            "1/1 [==============================] - 0s 18ms/step\n",
            "-\n",
            "Input: You're mean.\n",
            "Translation: vous êtes méchant.\n",
            "Continue? [Y/n]Y\n",
            "1/1 [==============================] - 0s 18ms/step\n",
            "1/1 [==============================] - 0s 18ms/step\n",
            "1/1 [==============================] - 0s 18ms/step\n",
            "1/1 [==============================] - 0s 18ms/step\n",
            "1/1 [==============================] - 0s 18ms/step\n",
            "1/1 [==============================] - 0s 17ms/step\n",
            "-\n",
            "Input: I dislike you.\n",
            "Translation: je ne t'aime pas.\n",
            "Continue? [Y/n]Y\n",
            "1/1 [==============================] - 0s 16ms/step\n",
            "1/1 [==============================] - 0s 18ms/step\n",
            "1/1 [==============================] - 0s 19ms/step\n",
            "1/1 [==============================] - 0s 18ms/step\n",
            "1/1 [==============================] - 0s 23ms/step\n",
            "-\n",
            "Input: Give me time.\n",
            "Translation: donnez-moi du temps.\n",
            "Continue? [Y/n]Y\n",
            "1/1 [==============================] - 0s 17ms/step\n",
            "1/1 [==============================] - 0s 19ms/step\n",
            "1/1 [==============================] - 0s 18ms/step\n",
            "1/1 [==============================] - 0s 18ms/step\n",
            "1/1 [==============================] - 0s 18ms/step\n",
            "-\n",
            "Input: Awesome.\n",
            "Translation: trop cool !\n",
            "Continue? [Y/n]Y\n",
            "1/1 [==============================] - 0s 17ms/step\n",
            "1/1 [==============================] - 0s 18ms/step\n",
            "1/1 [==============================] - 0s 19ms/step\n",
            "1/1 [==============================] - 0s 18ms/step\n",
            "1/1 [==============================] - 0s 20ms/step\n",
            "1/1 [==============================] - 0s 20ms/step\n",
            "-\n",
            "Input: I can't see.\n",
            "Translation: je ne vois rien.\n",
            "Continue? [Y/n]Y\n",
            "1/1 [==============================] - 0s 17ms/step\n",
            "1/1 [==============================] - 0s 19ms/step\n",
            "1/1 [==============================] - 0s 18ms/step\n",
            "1/1 [==============================] - 0s 19ms/step\n",
            "1/1 [==============================] - 0s 18ms/step\n",
            "1/1 [==============================] - 0s 18ms/step\n",
            "-\n",
            "Input: We all cried.\n",
            "Translation: nous avons tous pleuré.\n",
            "Continue? [Y/n]Y\n",
            "1/1 [==============================] - 0s 16ms/step\n",
            "1/1 [==============================] - 0s 18ms/step\n",
            "1/1 [==============================] - 0s 18ms/step\n",
            "1/1 [==============================] - 0s 19ms/step\n",
            "-\n",
            "Input: Cut it out!\n",
            "Translation: arrêtez !\n",
            "Continue? [Y/n]Y\n",
            "1/1 [==============================] - 0s 17ms/step\n",
            "1/1 [==============================] - 0s 18ms/step\n",
            "1/1 [==============================] - 0s 19ms/step\n",
            "1/1 [==============================] - 0s 18ms/step\n",
            "1/1 [==============================] - 0s 20ms/step\n",
            "1/1 [==============================] - 0s 18ms/step\n",
            "1/1 [==============================] - 0s 18ms/step\n",
            "1/1 [==============================] - 0s 19ms/step\n",
            "-\n",
            "Input: We're paying.\n",
            "Translation: nous sommes train payer.\n",
            "Continue? [Y/n]n"
          ]
        }
      ]
    },
    {
      "cell_type": "markdown",
      "source": [
        "Attention Graphs"
      ],
      "metadata": {
        "id": "Iyq3L6Vj89ei"
      }
    },
    {
      "cell_type": "code",
      "source": [
        "sentences = [\n",
        "    \"Hello, how are you?\",\n",
        "]\n",
        "# Tokenize and pad input sentences\n",
        "input_sequences = tokenizer_inputs.texts_to_sequences(sentences)\n",
        "encoder_inputs_test = pad_sequences(input_sequences, maxlen=max_len_input)\n",
        "\n",
        "# Initialize decoder input with '<sos>' for each sentence\n",
        "decoder_inputs_test = np.zeros((len(sentences), 1))\n",
        "decoder_inputs_test[:, 0] = word2idx_outputs['<sos>']\n",
        "\n",
        "# Predict translations\n",
        "predicted_translations = model.predict([encoder_inputs_test, decoder_inputs_test])\n",
        "\n",
        "# Get attention weights\n",
        "attention_weights_test = model.predict([encoder_inputs_test, decoder_inputs_test])\n",
        "\n",
        "# Visualize attention maps\n",
        "for i in range(len(sentences)):\n",
        "    # Plot attention weights\n",
        "    plt.imshow(attention_weights_test[i].reshape((1, -1)), cmap='viridis', aspect='auto')\n",
        "    plt.xlabel('Encoder Time Steps')\n",
        "    plt.ylabel('Decoder Time Steps')\n",
        "    plt.title(f'Attention Map for Sentence {i + 1}')\n",
        "    plt.show()\n",
        "\n",
        "    # Display the original sentence and predicted translation\n",
        "    print(f\"Input Sentence: {sentences[i]}\")\n",
        "    print(f\"Predicted Translation: {tokenizer_outputs.sequences_to_texts([np.argmax(predicted_translations[i], axis=1)])[0]}\\n\")"
      ],
      "metadata": {
        "id": "MybBYTYwDOaY"
      },
      "execution_count": null,
      "outputs": []
    },
    {
      "cell_type": "markdown",
      "source": [
        "# seq2seq Without Attention"
      ],
      "metadata": {
        "id": "NNFu5IhThLlg"
      }
    },
    {
      "cell_type": "code",
      "source": [
        "# create targets, since we cannot use sparse\n",
        "# categorical cross entropy when we have sequences\n",
        "decoder_targets_one_hot = np.zeros(\n",
        "  (\n",
        "    len(input_texts),\n",
        "    max_len_target,\n",
        "    num_words_output\n",
        "  ),\n",
        "  dtype='float32'\n",
        ")\n",
        "\n",
        "# assign the values\n",
        "for i, d in enumerate(decoder_targets):\n",
        "  for t, word in enumerate(d):\n",
        "    if word != 0:\n",
        "      decoder_targets_one_hot[i, t, word] = 1\n",
        "\n",
        "encoder_inputs_placeholder = Input(shape=(max_len_input,))\n",
        "x = embedding_layer(encoder_inputs_placeholder)\n",
        "encoder = LSTM(\n",
        "  LATENT_DIM,\n",
        "  return_state=True,\n",
        "  # dropout=0.5 # dropout not available on gpu\n",
        ")\n",
        "encoder_outputs, h, c = encoder(x)\n",
        "# encoder_outputs, h = encoder(x) #gru\n",
        "\n",
        "# keep only the states to pass into decoder\n",
        "encoder_states = [h, c]\n",
        "# encoder_states = [state_h] # gru\n",
        "\n",
        "# Set up the decoder, using [h, c] as initial state.\n",
        "decoder_inputs_placeholder = Input(shape=(max_len_target,))\n",
        "\n",
        "# this word embedding will not use pre-trained vectors\n",
        "# although you could\n",
        "decoder_embedding = Embedding(num_words_output, EMBEDDING_DIM)\n",
        "decoder_inputs_x = decoder_embedding(decoder_inputs_placeholder)\n",
        "\n",
        "# since the decoder is a \"to-many\" model we want to have\n",
        "# return_sequences=True\n",
        "decoder_lstm = LSTM(\n",
        "  LATENT_DIM,\n",
        "  return_sequences=True,\n",
        "  return_state=True,\n",
        "  # dropout=0.5 # dropout not available on gpu\n",
        ")\n",
        "decoder_outputs, _, _ = decoder_lstm(\n",
        "  decoder_inputs_x,\n",
        "  initial_state=encoder_states\n",
        ")\n",
        "\n",
        "# decoder_outputs, _ = decoder_gru(\n",
        "#   decoder_inputs_x,\n",
        "#   initial_state=encoder_states\n",
        "# )\n",
        "\n",
        "# final dense layer for predictions\n",
        "decoder_dense = Dense(num_words_output, activation='softmax')\n",
        "decoder_outputs = decoder_dense(decoder_outputs)\n",
        "\n",
        "def custom_loss(y_true, y_pred):\n",
        "  # both are of shape N x T x K\n",
        "  mask = K.cast(y_true > 0, dtype='float32')\n",
        "  out = mask * y_true * K.log(y_pred)\n",
        "  return -K.sum(out) / K.sum(mask)\n",
        "\n",
        "def acc(y_true, y_pred):\n",
        "  # both are of shape N x T x K\n",
        "  targ = K.argmax(y_true, axis=-1)\n",
        "  pred = K.argmax(y_pred, axis=-1)\n",
        "  correct = K.cast(K.equal(targ, pred), dtype='float32')\n",
        "\n",
        "  # 0 is padding, don't include those\n",
        "  mask = K.cast(K.greater(targ, 0), dtype='float32')\n",
        "  n_correct = K.sum(mask * correct)\n",
        "  n_total = K.sum(mask)\n",
        "  return n_correct / n_total\n",
        "\n",
        "  # Create the model object\n",
        "model = Model([encoder_inputs_placeholder, decoder_inputs_placeholder], decoder_outputs)\n",
        "\n",
        "model.compile(optimizer='adam', loss=custom_loss, metrics=[acc])\n",
        "\n",
        "r = model.fit(\n",
        "  [encoder_inputs, decoder_inputs], decoder_targets_one_hot,\n",
        "  batch_size=BATCH_SIZE,\n",
        "  epochs=EPOCHS,\n",
        "  validation_split=0.2,\n",
        ")"
      ],
      "metadata": {
        "colab": {
          "base_uri": "https://localhost:8080/"
        },
        "id": "W4prGEFfhR_y",
        "outputId": "5fa8d58b-6798-4aa8-8df7-36d05fa46c2f"
      },
      "execution_count": null,
      "outputs": [
        {
          "output_type": "stream",
          "name": "stdout",
          "text": [
            "Epoch 1/100\n",
            "125/125 [==============================] - 9s 52ms/step - loss: 5.6575 - acc: 0.2725 - val_loss: 5.2618 - val_acc: 0.2767\n",
            "Epoch 2/100\n",
            "125/125 [==============================] - 2s 19ms/step - loss: 4.5473 - acc: 0.3043 - val_loss: 4.8816 - val_acc: 0.2937\n",
            "Epoch 3/100\n",
            "125/125 [==============================] - 2s 16ms/step - loss: 4.0410 - acc: 0.3592 - val_loss: 4.5707 - val_acc: 0.3676\n",
            "Epoch 4/100\n",
            "125/125 [==============================] - 2s 18ms/step - loss: 3.5819 - acc: 0.4371 - val_loss: 4.3249 - val_acc: 0.4244\n",
            "Epoch 5/100\n",
            "125/125 [==============================] - 2s 17ms/step - loss: 3.1992 - acc: 0.4810 - val_loss: 4.1919 - val_acc: 0.4474\n",
            "Epoch 6/100\n",
            "125/125 [==============================] - 2s 18ms/step - loss: 2.8934 - acc: 0.5114 - val_loss: 4.0999 - val_acc: 0.4630\n",
            "Epoch 7/100\n",
            "125/125 [==============================] - 2s 15ms/step - loss: 2.6288 - acc: 0.5339 - val_loss: 4.0887 - val_acc: 0.4685\n",
            "Epoch 8/100\n",
            "125/125 [==============================] - 2s 15ms/step - loss: 2.3955 - acc: 0.5538 - val_loss: 4.0435 - val_acc: 0.4771\n",
            "Epoch 9/100\n",
            "125/125 [==============================] - 2s 15ms/step - loss: 2.1815 - acc: 0.5749 - val_loss: 4.0226 - val_acc: 0.4772\n",
            "Epoch 10/100\n",
            "125/125 [==============================] - 2s 16ms/step - loss: 1.9844 - acc: 0.5944 - val_loss: 4.0197 - val_acc: 0.4766\n",
            "Epoch 11/100\n",
            "125/125 [==============================] - 2s 15ms/step - loss: 1.8027 - acc: 0.6146 - val_loss: 4.0428 - val_acc: 0.4774\n",
            "Epoch 12/100\n",
            "125/125 [==============================] - 2s 16ms/step - loss: 1.6401 - acc: 0.6362 - val_loss: 4.0456 - val_acc: 0.4753\n",
            "Epoch 13/100\n",
            "125/125 [==============================] - 2s 15ms/step - loss: 1.4920 - acc: 0.6558 - val_loss: 4.0797 - val_acc: 0.4744\n",
            "Epoch 14/100\n",
            "125/125 [==============================] - 2s 17ms/step - loss: 1.3564 - acc: 0.6761 - val_loss: 4.0613 - val_acc: 0.4757\n",
            "Epoch 15/100\n",
            "125/125 [==============================] - 2s 16ms/step - loss: 1.2339 - acc: 0.7001 - val_loss: 4.0936 - val_acc: 0.4743\n",
            "Epoch 16/100\n",
            "125/125 [==============================] - 2s 16ms/step - loss: 1.1266 - acc: 0.7189 - val_loss: 4.0893 - val_acc: 0.4742\n",
            "Epoch 17/100\n",
            "125/125 [==============================] - 2s 15ms/step - loss: 1.0304 - acc: 0.7343 - val_loss: 4.1171 - val_acc: 0.4794\n",
            "Epoch 18/100\n",
            "125/125 [==============================] - 2s 15ms/step - loss: 0.9440 - acc: 0.7533 - val_loss: 4.1295 - val_acc: 0.4772\n",
            "Epoch 19/100\n",
            "125/125 [==============================] - 2s 15ms/step - loss: 0.8673 - acc: 0.7673 - val_loss: 4.1337 - val_acc: 0.4827\n",
            "Epoch 20/100\n",
            "125/125 [==============================] - 2s 15ms/step - loss: 0.8010 - acc: 0.7783 - val_loss: 4.1812 - val_acc: 0.4793\n",
            "Epoch 21/100\n",
            "125/125 [==============================] - 2s 15ms/step - loss: 0.7429 - acc: 0.7908 - val_loss: 4.1865 - val_acc: 0.4777\n",
            "Epoch 22/100\n",
            "125/125 [==============================] - 2s 16ms/step - loss: 0.6916 - acc: 0.7981 - val_loss: 4.2312 - val_acc: 0.4762\n",
            "Epoch 23/100\n",
            "125/125 [==============================] - 2s 17ms/step - loss: 0.6459 - acc: 0.8061 - val_loss: 4.2409 - val_acc: 0.4748\n",
            "Epoch 24/100\n",
            "125/125 [==============================] - 2s 16ms/step - loss: 0.6061 - acc: 0.8128 - val_loss: 4.2551 - val_acc: 0.4782\n",
            "Epoch 25/100\n",
            "125/125 [==============================] - 2s 16ms/step - loss: 0.5730 - acc: 0.8168 - val_loss: 4.2741 - val_acc: 0.4746\n",
            "Epoch 26/100\n",
            "125/125 [==============================] - 2s 15ms/step - loss: 0.5462 - acc: 0.8216 - val_loss: 4.2890 - val_acc: 0.4782\n",
            "Epoch 27/100\n",
            "125/125 [==============================] - 2s 15ms/step - loss: 0.5181 - acc: 0.8237 - val_loss: 4.3162 - val_acc: 0.4765\n",
            "Epoch 28/100\n",
            "125/125 [==============================] - 2s 15ms/step - loss: 0.4941 - acc: 0.8274 - val_loss: 4.3280 - val_acc: 0.4783\n",
            "Epoch 29/100\n",
            "125/125 [==============================] - 2s 15ms/step - loss: 0.4739 - acc: 0.8304 - val_loss: 4.3156 - val_acc: 0.4802\n",
            "Epoch 30/100\n",
            "125/125 [==============================] - 2s 15ms/step - loss: 0.4580 - acc: 0.8317 - val_loss: 4.3558 - val_acc: 0.4779\n",
            "Epoch 31/100\n",
            "125/125 [==============================] - 2s 15ms/step - loss: 0.4411 - acc: 0.8332 - val_loss: 4.3802 - val_acc: 0.4782\n",
            "Epoch 32/100\n",
            "125/125 [==============================] - 2s 15ms/step - loss: 0.4283 - acc: 0.8345 - val_loss: 4.3687 - val_acc: 0.4788\n",
            "Epoch 33/100\n",
            "125/125 [==============================] - 2s 16ms/step - loss: 0.4158 - acc: 0.8341 - val_loss: 4.4214 - val_acc: 0.4790\n",
            "Epoch 34/100\n",
            "125/125 [==============================] - 2s 15ms/step - loss: 0.4047 - acc: 0.8388 - val_loss: 4.4268 - val_acc: 0.4784\n",
            "Epoch 35/100\n",
            "125/125 [==============================] - 2s 15ms/step - loss: 0.3960 - acc: 0.8377 - val_loss: 4.4284 - val_acc: 0.4749\n",
            "Epoch 36/100\n",
            "125/125 [==============================] - 2s 15ms/step - loss: 0.3854 - acc: 0.8393 - val_loss: 4.4605 - val_acc: 0.4802\n",
            "Epoch 37/100\n",
            "125/125 [==============================] - 2s 16ms/step - loss: 0.3791 - acc: 0.8396 - val_loss: 4.4834 - val_acc: 0.4774\n",
            "Epoch 38/100\n",
            "125/125 [==============================] - 2s 15ms/step - loss: 0.3713 - acc: 0.8396 - val_loss: 4.4720 - val_acc: 0.4776\n",
            "Epoch 39/100\n",
            "125/125 [==============================] - 2s 15ms/step - loss: 0.3666 - acc: 0.8394 - val_loss: 4.4802 - val_acc: 0.4748\n",
            "Epoch 40/100\n",
            "125/125 [==============================] - 2s 15ms/step - loss: 0.3600 - acc: 0.8413 - val_loss: 4.5306 - val_acc: 0.4748\n",
            "Epoch 41/100\n",
            "125/125 [==============================] - 2s 15ms/step - loss: 0.3543 - acc: 0.8413 - val_loss: 4.5199 - val_acc: 0.4779\n",
            "Epoch 42/100\n",
            "125/125 [==============================] - 2s 16ms/step - loss: 0.3486 - acc: 0.8425 - val_loss: 4.5270 - val_acc: 0.4740\n",
            "Epoch 43/100\n",
            "125/125 [==============================] - 2s 16ms/step - loss: 0.3462 - acc: 0.8421 - val_loss: 4.5530 - val_acc: 0.4765\n",
            "Epoch 44/100\n",
            "125/125 [==============================] - 2s 15ms/step - loss: 0.3421 - acc: 0.8409 - val_loss: 4.5496 - val_acc: 0.4736\n",
            "Epoch 45/100\n",
            "125/125 [==============================] - 2s 16ms/step - loss: 0.3398 - acc: 0.8426 - val_loss: 4.5304 - val_acc: 0.4753\n",
            "Epoch 46/100\n",
            "125/125 [==============================] - 2s 16ms/step - loss: 0.3350 - acc: 0.8428 - val_loss: 4.5765 - val_acc: 0.4735\n",
            "Epoch 47/100\n",
            "125/125 [==============================] - 2s 15ms/step - loss: 0.3315 - acc: 0.8428 - val_loss: 4.5786 - val_acc: 0.4769\n",
            "Epoch 48/100\n",
            "125/125 [==============================] - 2s 15ms/step - loss: 0.3284 - acc: 0.8435 - val_loss: 4.6493 - val_acc: 0.4743\n",
            "Epoch 49/100\n",
            "125/125 [==============================] - 2s 16ms/step - loss: 0.3270 - acc: 0.8407 - val_loss: 4.6268 - val_acc: 0.4754\n",
            "Epoch 50/100\n",
            "125/125 [==============================] - 2s 15ms/step - loss: 0.3248 - acc: 0.8421 - val_loss: 4.6394 - val_acc: 0.4756\n",
            "Epoch 51/100\n",
            "125/125 [==============================] - 2s 15ms/step - loss: 0.3226 - acc: 0.8430 - val_loss: 4.6660 - val_acc: 0.4717\n",
            "Epoch 52/100\n",
            "125/125 [==============================] - 2s 15ms/step - loss: 0.3200 - acc: 0.8430 - val_loss: 4.6362 - val_acc: 0.4741\n",
            "Epoch 53/100\n",
            "125/125 [==============================] - 2s 15ms/step - loss: 0.3189 - acc: 0.8429 - val_loss: 4.6522 - val_acc: 0.4777\n",
            "Epoch 54/100\n",
            "125/125 [==============================] - 2s 15ms/step - loss: 0.3155 - acc: 0.8425 - val_loss: 4.6928 - val_acc: 0.4743\n",
            "Epoch 55/100\n",
            "125/125 [==============================] - 2s 15ms/step - loss: 0.3131 - acc: 0.8432 - val_loss: 4.6738 - val_acc: 0.4763\n",
            "Epoch 56/100\n",
            "125/125 [==============================] - 2s 15ms/step - loss: 0.3120 - acc: 0.8429 - val_loss: 4.6857 - val_acc: 0.4799\n",
            "Epoch 57/100\n",
            "125/125 [==============================] - 2s 15ms/step - loss: 0.3110 - acc: 0.8425 - val_loss: 4.7384 - val_acc: 0.4771\n",
            "Epoch 58/100\n",
            "125/125 [==============================] - 2s 15ms/step - loss: 0.3103 - acc: 0.8428 - val_loss: 4.7240 - val_acc: 0.4735\n",
            "Epoch 59/100\n",
            "125/125 [==============================] - 2s 15ms/step - loss: 0.3089 - acc: 0.8429 - val_loss: 4.7279 - val_acc: 0.4754\n",
            "Epoch 60/100\n",
            "125/125 [==============================] - 2s 15ms/step - loss: 0.3062 - acc: 0.8433 - val_loss: 4.6793 - val_acc: 0.4726\n",
            "Epoch 61/100\n",
            "125/125 [==============================] - 2s 15ms/step - loss: 0.3065 - acc: 0.8416 - val_loss: 4.6803 - val_acc: 0.4752\n",
            "Epoch 62/100\n",
            "125/125 [==============================] - 2s 15ms/step - loss: 0.3065 - acc: 0.8430 - val_loss: 4.7447 - val_acc: 0.4761\n",
            "Epoch 63/100\n",
            "125/125 [==============================] - 2s 15ms/step - loss: 0.3060 - acc: 0.8442 - val_loss: 4.7683 - val_acc: 0.4759\n",
            "Epoch 64/100\n",
            "125/125 [==============================] - 2s 15ms/step - loss: 0.3057 - acc: 0.8433 - val_loss: 4.7789 - val_acc: 0.4729\n",
            "Epoch 65/100\n",
            "125/125 [==============================] - 2s 15ms/step - loss: 0.3021 - acc: 0.8429 - val_loss: 4.7817 - val_acc: 0.4742\n",
            "Epoch 66/100\n",
            "125/125 [==============================] - 2s 15ms/step - loss: 0.3004 - acc: 0.8443 - val_loss: 4.7811 - val_acc: 0.4725\n",
            "Epoch 67/100\n",
            "125/125 [==============================] - 2s 15ms/step - loss: 0.3007 - acc: 0.8422 - val_loss: 4.8104 - val_acc: 0.4767\n",
            "Epoch 68/100\n",
            "125/125 [==============================] - 2s 15ms/step - loss: 0.2996 - acc: 0.8434 - val_loss: 4.7844 - val_acc: 0.4728\n",
            "Epoch 69/100\n",
            "125/125 [==============================] - 2s 16ms/step - loss: 0.2967 - acc: 0.8444 - val_loss: 4.7870 - val_acc: 0.4742\n",
            "Epoch 70/100\n",
            "125/125 [==============================] - 2s 15ms/step - loss: 0.2966 - acc: 0.8431 - val_loss: 4.8480 - val_acc: 0.4775\n",
            "Epoch 71/100\n",
            "125/125 [==============================] - 2s 15ms/step - loss: 0.2956 - acc: 0.8430 - val_loss: 4.7813 - val_acc: 0.4751\n",
            "Epoch 72/100\n",
            "125/125 [==============================] - 2s 15ms/step - loss: 0.2966 - acc: 0.8414 - val_loss: 4.7960 - val_acc: 0.4745\n",
            "Epoch 73/100\n",
            "125/125 [==============================] - 2s 15ms/step - loss: 0.2951 - acc: 0.8430 - val_loss: 4.8581 - val_acc: 0.4751\n",
            "Epoch 74/100\n",
            "125/125 [==============================] - 2s 15ms/step - loss: 0.2945 - acc: 0.8423 - val_loss: 4.8168 - val_acc: 0.4801\n",
            "Epoch 75/100\n",
            "125/125 [==============================] - 2s 15ms/step - loss: 0.2947 - acc: 0.8432 - val_loss: 4.8114 - val_acc: 0.4738\n",
            "Epoch 76/100\n",
            "125/125 [==============================] - 2s 15ms/step - loss: 0.2948 - acc: 0.8417 - val_loss: 4.8543 - val_acc: 0.4720\n",
            "Epoch 77/100\n",
            "125/125 [==============================] - 2s 15ms/step - loss: 0.2940 - acc: 0.8420 - val_loss: 4.8894 - val_acc: 0.4718\n",
            "Epoch 78/100\n",
            "125/125 [==============================] - 2s 15ms/step - loss: 0.2920 - acc: 0.8429 - val_loss: 4.8973 - val_acc: 0.4734\n",
            "Epoch 79/100\n",
            "125/125 [==============================] - 2s 15ms/step - loss: 0.2915 - acc: 0.8439 - val_loss: 4.8817 - val_acc: 0.4752\n",
            "Epoch 80/100\n",
            "125/125 [==============================] - 2s 15ms/step - loss: 0.2909 - acc: 0.8424 - val_loss: 4.8992 - val_acc: 0.4754\n",
            "Epoch 81/100\n",
            "125/125 [==============================] - 2s 15ms/step - loss: 0.2898 - acc: 0.8428 - val_loss: 4.9159 - val_acc: 0.4735\n",
            "Epoch 82/100\n",
            "125/125 [==============================] - 2s 16ms/step - loss: 0.2902 - acc: 0.8427 - val_loss: 4.8441 - val_acc: 0.4717\n",
            "Epoch 83/100\n",
            "125/125 [==============================] - 2s 15ms/step - loss: 0.2891 - acc: 0.8423 - val_loss: 4.9785 - val_acc: 0.4734\n",
            "Epoch 84/100\n",
            "125/125 [==============================] - 2s 15ms/step - loss: 0.2890 - acc: 0.8416 - val_loss: 4.8741 - val_acc: 0.4737\n",
            "Epoch 85/100\n",
            "125/125 [==============================] - 2s 15ms/step - loss: 0.2887 - acc: 0.8411 - val_loss: 4.9480 - val_acc: 0.4744\n",
            "Epoch 86/100\n",
            "125/125 [==============================] - 2s 15ms/step - loss: 0.2888 - acc: 0.8438 - val_loss: 4.9058 - val_acc: 0.4718\n",
            "Epoch 87/100\n",
            "125/125 [==============================] - 2s 15ms/step - loss: 0.2886 - acc: 0.8441 - val_loss: 4.9203 - val_acc: 0.4744\n",
            "Epoch 88/100\n",
            "125/125 [==============================] - 2s 15ms/step - loss: 0.2871 - acc: 0.8421 - val_loss: 4.9478 - val_acc: 0.4762\n",
            "Epoch 89/100\n",
            "125/125 [==============================] - 2s 15ms/step - loss: 0.2866 - acc: 0.8415 - val_loss: 4.9707 - val_acc: 0.4731\n",
            "Epoch 90/100\n",
            "125/125 [==============================] - 2s 15ms/step - loss: 0.2861 - acc: 0.8418 - val_loss: 4.9326 - val_acc: 0.4724\n",
            "Epoch 91/100\n",
            "125/125 [==============================] - 2s 15ms/step - loss: 0.2857 - acc: 0.8418 - val_loss: 4.9184 - val_acc: 0.4740\n",
            "Epoch 92/100\n",
            "125/125 [==============================] - 2s 15ms/step - loss: 0.2852 - acc: 0.8412 - val_loss: 4.9688 - val_acc: 0.4714\n",
            "Epoch 93/100\n",
            "125/125 [==============================] - 2s 15ms/step - loss: 0.2840 - acc: 0.8426 - val_loss: 4.9592 - val_acc: 0.4714\n",
            "Epoch 94/100\n",
            "125/125 [==============================] - 2s 15ms/step - loss: 0.2844 - acc: 0.8410 - val_loss: 4.9636 - val_acc: 0.4732\n",
            "Epoch 95/100\n",
            "125/125 [==============================] - 2s 15ms/step - loss: 0.2834 - acc: 0.8422 - val_loss: 5.0098 - val_acc: 0.4739\n",
            "Epoch 96/100\n",
            "125/125 [==============================] - 2s 15ms/step - loss: 0.2834 - acc: 0.8430 - val_loss: 4.9895 - val_acc: 0.4725\n",
            "Epoch 97/100\n",
            "125/125 [==============================] - 2s 15ms/step - loss: 0.2826 - acc: 0.8431 - val_loss: 5.0214 - val_acc: 0.4716\n",
            "Epoch 98/100\n",
            "125/125 [==============================] - 2s 15ms/step - loss: 0.2817 - acc: 0.8432 - val_loss: 4.9296 - val_acc: 0.4727\n",
            "Epoch 99/100\n",
            "125/125 [==============================] - 2s 15ms/step - loss: 0.2818 - acc: 0.8412 - val_loss: 5.0628 - val_acc: 0.4680\n",
            "Epoch 100/100\n",
            "125/125 [==============================] - 2s 15ms/step - loss: 0.2825 - acc: 0.8431 - val_loss: 5.0632 - val_acc: 0.4740\n"
          ]
        }
      ]
    },
    {
      "cell_type": "code",
      "source": [
        "# plot some data\n",
        "plt.plot(r.history['loss'], label='loss')\n",
        "plt.plot(r.history['val_loss'], label='val_loss')\n",
        "plt.legend()\n",
        "plt.show()\n",
        "\n",
        "# accuracies\n",
        "plt.plot(r.history['acc'], label='acc')\n",
        "plt.plot(r.history['val_acc'], label='val_acc')\n",
        "plt.legend()\n",
        "plt.show()\n",
        "\n",
        "# Save model\n",
        "model.save('s2s.h5')"
      ],
      "metadata": {
        "id": "zZSp5mmKhsbD",
        "colab": {
          "base_uri": "https://localhost:8080/",
          "height": 898
        },
        "outputId": "bf772612-fd98-451c-de83-ca35d6aeab81"
      },
      "execution_count": null,
      "outputs": [
        {
          "output_type": "display_data",
          "data": {
            "text/plain": [
              "<Figure size 640x480 with 1 Axes>"
            ],
            "image/png": "[encoded data removed]"
          },
          "metadata": {}
        },
        {
          "output_type": "display_data",
          "data": {
            "text/plain": [
              "<Figure size 640x480 with 1 Axes>"
            ],
            "image/png": "[encoded data removed]"
          },
          "metadata": {}
        },
        {
          "output_type": "stream",
          "name": "stderr",
          "text": [
            "/usr/local/lib/python3.10/dist-packages/keras/src/engine/training.py:3079: UserWarning: You are saving your model as an HDF5 file via `model.save()`. This file format is considered legacy. We recommend using instead the native Keras format, e.g. `model.save('my_model.keras')`.\n",
            "  saving_api.save_model(\n"
          ]
        }
      ]
    },
    {
      "cell_type": "code",
      "source": [
        "# As with the poetry example, we need to create another model\n",
        "# that can take in the RNN state and previous word as input\n",
        "# and accept a T=1 sequence.\n",
        "\n",
        "# The encoder will be stand-alone\n",
        "# From this we will get our initial decoder hidden state\n",
        "encoder_model = Model(encoder_inputs_placeholder, encoder_states)\n",
        "\n",
        "decoder_state_input_h = Input(shape=(LATENT_DIM,))\n",
        "decoder_state_input_c = Input(shape=(LATENT_DIM,))\n",
        "decoder_states_inputs = [decoder_state_input_h, decoder_state_input_c]\n",
        "# decoder_states_inputs = [decoder_state_input_h] # gru\n",
        "\n",
        "decoder_inputs_single = Input(shape=(1,))\n",
        "decoder_inputs_single_x = decoder_embedding(decoder_inputs_single)\n",
        "\n",
        "# this time, we want to keep the states too, to be output\n",
        "# by our sampling model\n",
        "decoder_outputs, h, c = decoder_lstm(\n",
        "  decoder_inputs_single_x,\n",
        "  initial_state=decoder_states_inputs\n",
        ")\n",
        "# decoder_outputs, state_h = decoder_lstm(\n",
        "#   decoder_inputs_single_x,\n",
        "#   initial_state=decoder_states_inputs\n",
        "# ) #gru\n",
        "decoder_states = [h, c]\n",
        "# decoder_states = [h] # gru\n",
        "decoder_outputs = decoder_dense(decoder_outputs)\n",
        "\n",
        "# The sampling model\n",
        "# inputs: y(t-1), h(t-1), c(t-1)\n",
        "# outputs: y(t), h(t), c(t)\n",
        "decoder_model = Model(\n",
        "  [decoder_inputs_single] + decoder_states_inputs,\n",
        "  [decoder_outputs] + decoder_states\n",
        ")\n",
        "\n",
        "# map indexes back into real words\n",
        "# so we can view the results\n",
        "idx2word_eng = {v:k for k, v in word2idx_inputs.items()}\n",
        "idx2word_trans = {v:k for k, v in word2idx_outputs.items()}\n",
        "\n",
        "def decode_sequence(input_seq):\n",
        "  # Encode the input as state vectors.\n",
        "  states_value = encoder_model.predict(input_seq)\n",
        "\n",
        "  # Generate empty target sequence of length 1.\n",
        "  target_seq = np.zeros((1, 1))\n",
        "\n",
        "  # Populate the first character of target sequence with the start character.\n",
        "  # NOTE: tokenizer lower-cases all words\n",
        "  target_seq[0, 0] = word2idx_outputs['<sos>']\n",
        "\n",
        "  # if we get this we break\n",
        "  eos = word2idx_outputs['<eos>']\n",
        "\n",
        "  # Create the translation\n",
        "  output_sentence = []\n",
        "  for _ in range(max_len_target):\n",
        "    output_tokens, h, c = decoder_model.predict(\n",
        "      [target_seq] + states_value\n",
        "    )\n",
        "    # output_tokens, h = decoder_model.predict(\n",
        "    #     [target_seq] + states_value\n",
        "    # ) # gru\n",
        "\n",
        "    # Get next word\n",
        "    idx = np.argmax(output_tokens[0, 0, :])\n",
        "\n",
        "    # End sentence of EOS\n",
        "    if eos == idx:\n",
        "      break\n",
        "\n",
        "    word = ''\n",
        "    if idx > 0:\n",
        "      word = idx2word_trans[idx]\n",
        "      output_sentence.append(word)\n",
        "\n",
        "    # Update the decoder input\n",
        "    # which is just the word just generated\n",
        "    target_seq[0, 0] = idx\n",
        "\n",
        "    # Update states\n",
        "    states_value = [h, c]\n",
        "    # states_value = [h] # gru\n",
        "\n",
        "  return ' '.join(output_sentence)\n"
      ],
      "metadata": {
        "id": "0YtydoCYhulT"
      },
      "execution_count": null,
      "outputs": []
    },
    {
      "cell_type": "markdown",
      "source": [
        "### Testing without attention"
      ],
      "metadata": {
        "id": "KcXptGmMYUAb"
      }
    },
    {
      "cell_type": "code",
      "source": [
        "while True:\n",
        "  # Do some test translations\n",
        "  i = np.random.choice(len(input_texts))\n",
        "  input_seq = encoder_inputs[i:i+1]\n",
        "  translation = decode_sequence(input_seq)\n",
        "  print('-')\n",
        "  print('Input:', input_texts[i])\n",
        "  print('Translation:', translation)\n",
        "\n",
        "  ans = input(\"Continue? [Y/n]\")\n",
        "  if ans and ans.lower().startswith('n'):\n",
        "    break"
      ],
      "metadata": {
        "id": "iKSh3rmCh1ry",
        "colab": {
          "base_uri": "https://localhost:8080/"
        },
        "outputId": "01218d9b-2205-4028-977e-080f53aa119b"
      },
      "execution_count": null,
      "outputs": [
        {
          "name": "stdout",
          "output_type": "stream",
          "text": [
            "1/1 [==============================] - 0s 329ms/step\n",
            "1/1 [==============================] - 0s 333ms/step\n",
            "1/1 [==============================] - 0s 18ms/step\n",
            "1/1 [==============================] - 0s 18ms/step\n",
            "1/1 [==============================] - 0s 20ms/step\n",
            "-\n",
            "Input: Tom spoke.\n",
            "Translation: tom a parlé.\n",
            "Continue? [Y/n]Y\n",
            "1/1 [==============================] - 0s 17ms/step\n",
            "1/1 [==============================] - 0s 19ms/step\n",
            "1/1 [==============================] - 0s 18ms/step\n",
            "1/1 [==============================] - 0s 18ms/step\n",
            "1/1 [==============================] - 0s 19ms/step\n",
            "1/1 [==============================] - 0s 21ms/step\n",
            "1/1 [==============================] - 0s 19ms/step\n",
            "-\n",
            "Input: It's not mine.\n",
            "Translation: il n'est pas à moi.\n",
            "Continue? [Y/n]Y\n",
            "1/1 [==============================] - 0s 16ms/step\n",
            "1/1 [==============================] - 0s 18ms/step\n",
            "1/1 [==============================] - 0s 18ms/step\n",
            "1/1 [==============================] - 0s 19ms/step\n",
            "1/1 [==============================] - 0s 20ms/step\n",
            "-\n",
            "Input: Let Tom in.\n",
            "Translation: fais entrer tom.\n",
            "Continue? [Y/n]Y\n",
            "1/1 [==============================] - 0s 17ms/step\n",
            "1/1 [==============================] - 0s 26ms/step\n",
            "1/1 [==============================] - 0s 19ms/step\n",
            "1/1 [==============================] - 0s 19ms/step\n",
            "1/1 [==============================] - 0s 18ms/step\n",
            "-\n",
            "Input: Remain calm.\n",
            "Translation: gardez votre calme.\n",
            "Continue? [Y/n]Y\n",
            "1/1 [==============================] - 0s 16ms/step\n",
            "1/1 [==============================] - 0s 17ms/step\n",
            "1/1 [==============================] - 0s 19ms/step\n",
            "1/1 [==============================] - 0s 18ms/step\n",
            "1/1 [==============================] - 0s 18ms/step\n",
            "-\n",
            "Input: Stay calm.\n",
            "Translation: on reste cool.\n",
            "Continue? [Y/n]Y\n",
            "1/1 [==============================] - 0s 16ms/step\n",
            "1/1 [==============================] - 0s 18ms/step\n",
            "1/1 [==============================] - 0s 19ms/step\n",
            "1/1 [==============================] - 0s 20ms/step\n",
            "1/1 [==============================] - 0s 18ms/step\n",
            "1/1 [==============================] - 0s 19ms/step\n",
            "-\n",
            "Input: Have a cookie.\n",
            "Translation: prends un biscuit !\n",
            "Continue? [Y/n]Y\n",
            "1/1 [==============================] - 0s 17ms/step\n",
            "1/1 [==============================] - 0s 18ms/step\n",
            "1/1 [==============================] - 0s 18ms/step\n",
            "1/1 [==============================] - 0s 18ms/step\n",
            "1/1 [==============================] - 0s 18ms/step\n",
            "1/1 [==============================] - 0s 18ms/step\n",
            "-\n",
            "Input: It's no good.\n",
            "Translation: ce n'est pas bon.\n",
            "Continue? [Y/n]Y\n",
            "1/1 [==============================] - 0s 17ms/step\n",
            "1/1 [==============================] - 0s 19ms/step\n",
            "1/1 [==============================] - 0s 19ms/step\n",
            "1/1 [==============================] - 0s 19ms/step\n",
            "1/1 [==============================] - 0s 20ms/step\n",
            "-\n",
            "Input: It's a weapon.\n",
            "Translation: c'est un gaspillage.\n",
            "Continue? [Y/n]Y\n",
            "1/1 [==============================] - 0s 21ms/step\n",
            "1/1 [==============================] - 0s 19ms/step\n",
            "1/1 [==============================] - 0s 19ms/step\n",
            "1/1 [==============================] - 0s 18ms/step\n",
            "1/1 [==============================] - 0s 18ms/step\n",
            "-\n",
            "Input: You're mean.\n",
            "Translation: vous êtes méchant.\n",
            "Continue? [Y/n]Y\n",
            "1/1 [==============================] - 0s 18ms/step\n",
            "1/1 [==============================] - 0s 18ms/step\n",
            "1/1 [==============================] - 0s 18ms/step\n",
            "1/1 [==============================] - 0s 18ms/step\n",
            "1/1 [==============================] - 0s 18ms/step\n",
            "1/1 [==============================] - 0s 17ms/step\n",
            "-\n",
            "Input: I dislike you.\n",
            "Translation: je ne t'aime pas.\n",
            "Continue? [Y/n]Y\n",
            "1/1 [==============================] - 0s 16ms/step\n",
            "1/1 [==============================] - 0s 18ms/step\n",
            "1/1 [==============================] - 0s 19ms/step\n",
            "1/1 [==============================] - 0s 18ms/step\n",
            "1/1 [==============================] - 0s 23ms/step\n",
            "-\n",
            "Input: Give me time.\n",
            "Translation: donnez-moi du temps.\n",
            "Continue? [Y/n]Y\n",
            "1/1 [==============================] - 0s 17ms/step\n",
            "1/1 [==============================] - 0s 19ms/step\n",
            "1/1 [==============================] - 0s 18ms/step\n",
            "1/1 [==============================] - 0s 18ms/step\n",
            "1/1 [==============================] - 0s 18ms/step\n",
            "-\n",
            "Input: Awesome.\n",
            "Translation: trop cool !\n",
            "Continue? [Y/n]Y\n",
            "1/1 [==============================] - 0s 17ms/step\n",
            "1/1 [==============================] - 0s 18ms/step\n",
            "1/1 [==============================] - 0s 19ms/step\n",
            "1/1 [==============================] - 0s 18ms/step\n",
            "1/1 [==============================] - 0s 20ms/step\n",
            "1/1 [==============================] - 0s 20ms/step\n",
            "-\n",
            "Input: I can't see.\n",
            "Translation: je ne vois rien.\n",
            "Continue? [Y/n]Y\n",
            "1/1 [==============================] - 0s 17ms/step\n",
            "1/1 [==============================] - 0s 19ms/step\n",
            "1/1 [==============================] - 0s 18ms/step\n",
            "1/1 [==============================] - 0s 19ms/step\n",
            "1/1 [==============================] - 0s 18ms/step\n",
            "1/1 [==============================] - 0s 18ms/step\n",
            "-\n",
            "Input: We all cried.\n",
            "Translation: nous avons tous pleuré.\n",
            "Continue? [Y/n]Y\n",
            "1/1 [==============================] - 0s 16ms/step\n",
            "1/1 [==============================] - 0s 18ms/step\n",
            "1/1 [==============================] - 0s 18ms/step\n",
            "1/1 [==============================] - 0s 19ms/step\n",
            "-\n",
            "Input: Cut it out!\n",
            "Translation: arrêtez !\n",
            "Continue? [Y/n]Y\n",
            "1/1 [==============================] - 0s 17ms/step\n",
            "1/1 [==============================] - 0s 18ms/step\n",
            "1/1 [==============================] - 0s 19ms/step\n",
            "1/1 [==============================] - 0s 18ms/step\n",
            "1/1 [==============================] - 0s 20ms/step\n",
            "1/1 [==============================] - 0s 18ms/step\n",
            "1/1 [==============================] - 0s 18ms/step\n",
            "1/1 [==============================] - 0s 19ms/step\n",
            "-\n",
            "Input: We're paying.\n",
            "Translation: nous sommes en train de payer.\n",
            "Continue? [Y/n]n\n"
          ]
        }
      ]
    }
  ]
}